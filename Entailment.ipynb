{
 "cells": [
  {
   "cell_type": "markdown",
   "metadata": {},
   "source": [
    "### NLP Project - SNLI Corpus"
   ]
  },
  {
   "cell_type": "markdown",
   "metadata": {},
   "source": [
    "#### This project will focus on the task of classifying sentence pairs from the SNLI sentence similarity corpus into three categories: entailment, contradiction, or neutral.\n",
    "\n",
    "#### Entailment means that the second sentence follows from the first. Contradiction means that the second sentence contradicts the first. Neutral is the case where there is neither entailment nor contradiction.\n",
    "\n",
    "#### I will be trying three different deep learning models for this task. For NLP tasks such as this, deep neural networks produce cutting edge results.\n",
    "\n",
    "#### Model 0 will be the baseline, a simple model consisting of stacked LSTM layers.\n",
    "\n",
    "#### Model 1 will be an attention network model based on the following paper: https://arxiv.org/pdf/1606.01933.pdf . I will largely be using the same parameters as described in the paper.\n",
    "\n",
    "#### Model 2 will be the ESIM model based on the following paper: https://arxiv.org/pdf/1609.06038v3.pdf"
   ]
  },
  {
   "cell_type": "markdown",
   "metadata": {},
   "source": [
    "### Section 1: Preparation"
   ]
  },
  {
   "cell_type": "markdown",
   "metadata": {},
   "source": [
    "First, I load the necessary libraries for the project, and load the SNLI train data into a pandas dataframe."
   ]
  },
  {
   "cell_type": "code",
   "execution_count": 1,
   "metadata": {
    "id": "FieG5Jer4Sqj"
   },
   "outputs": [],
   "source": [
    "import zipfile\n",
    "import tensorflow as tf\n",
    "import pandas as pd\n",
    "import matplotlib.pyplot as plt\n",
    "import numpy as np\n",
    "import json"
   ]
  },
  {
   "cell_type": "code",
   "execution_count": 2,
   "metadata": {
    "id": "aP99xDBP4gUr"
   },
   "outputs": [],
   "source": [
    "def unzip_data(filename):\n",
    "  zip_ref = zipfile.ZipFile(filename,'r')\n",
    "  zip_ref.extractall()\n",
    "  zip_ref.close()"
   ]
  },
  {
   "cell_type": "code",
   "execution_count": null,
   "metadata": {
    "id": "v6yVgUVh4hqM"
   },
   "outputs": [],
   "source": [
    "unzip_data(\"snli_1.0.zip\")"
   ]
  },
  {
   "cell_type": "code",
   "execution_count": 3,
   "metadata": {
    "id": "mX4Q_57z5TbN"
   },
   "outputs": [],
   "source": [
    "with open('snli_1.0/snli_1.0/snli_1.0_train.jsonl') as data:\n",
    "  lines = data.read().splitlines()\n",
    "  line_dicts = [json.loads(line) for line in lines]\n",
    "  df = pd.DataFrame(line_dicts)"
   ]
  },
  {
   "cell_type": "code",
   "execution_count": 4,
   "metadata": {
    "colab": {
     "base_uri": "https://localhost:8080/",
     "height": 345
    },
    "id": "c3wBP6yC6xTC",
    "outputId": "a35411a6-3eb3-4028-9387-c65efad9f95d"
   },
   "outputs": [
    {
     "data": {
      "text/html": [
       "<div>\n",
       "<style scoped>\n",
       "    .dataframe tbody tr th:only-of-type {\n",
       "        vertical-align: middle;\n",
       "    }\n",
       "\n",
       "    .dataframe tbody tr th {\n",
       "        vertical-align: top;\n",
       "    }\n",
       "\n",
       "    .dataframe thead th {\n",
       "        text-align: right;\n",
       "    }\n",
       "</style>\n",
       "<table border=\"1\" class=\"dataframe\">\n",
       "  <thead>\n",
       "    <tr style=\"text-align: right;\">\n",
       "      <th></th>\n",
       "      <th>annotator_labels</th>\n",
       "      <th>captionID</th>\n",
       "      <th>gold_label</th>\n",
       "      <th>pairID</th>\n",
       "      <th>sentence1</th>\n",
       "      <th>sentence1_binary_parse</th>\n",
       "      <th>sentence1_parse</th>\n",
       "      <th>sentence2</th>\n",
       "      <th>sentence2_binary_parse</th>\n",
       "      <th>sentence2_parse</th>\n",
       "    </tr>\n",
       "  </thead>\n",
       "  <tbody>\n",
       "    <tr>\n",
       "      <th>0</th>\n",
       "      <td>[neutral]</td>\n",
       "      <td>3416050480.jpg#4</td>\n",
       "      <td>neutral</td>\n",
       "      <td>3416050480.jpg#4r1n</td>\n",
       "      <td>A person on a horse jumps over a broken down a...</td>\n",
       "      <td>( ( ( A person ) ( on ( a horse ) ) ) ( ( jump...</td>\n",
       "      <td>(ROOT (S (NP (NP (DT A) (NN person)) (PP (IN o...</td>\n",
       "      <td>A person is training his horse for a competition.</td>\n",
       "      <td>( ( A person ) ( ( is ( ( training ( his horse...</td>\n",
       "      <td>(ROOT (S (NP (DT A) (NN person)) (VP (VBZ is) ...</td>\n",
       "    </tr>\n",
       "    <tr>\n",
       "      <th>1</th>\n",
       "      <td>[contradiction]</td>\n",
       "      <td>3416050480.jpg#4</td>\n",
       "      <td>contradiction</td>\n",
       "      <td>3416050480.jpg#4r1c</td>\n",
       "      <td>A person on a horse jumps over a broken down a...</td>\n",
       "      <td>( ( ( A person ) ( on ( a horse ) ) ) ( ( jump...</td>\n",
       "      <td>(ROOT (S (NP (NP (DT A) (NN person)) (PP (IN o...</td>\n",
       "      <td>A person is at a diner, ordering an omelette.</td>\n",
       "      <td>( ( A person ) ( ( ( ( is ( at ( a diner ) ) )...</td>\n",
       "      <td>(ROOT (S (NP (DT A) (NN person)) (VP (VBZ is) ...</td>\n",
       "    </tr>\n",
       "    <tr>\n",
       "      <th>2</th>\n",
       "      <td>[entailment]</td>\n",
       "      <td>3416050480.jpg#4</td>\n",
       "      <td>entailment</td>\n",
       "      <td>3416050480.jpg#4r1e</td>\n",
       "      <td>A person on a horse jumps over a broken down a...</td>\n",
       "      <td>( ( ( A person ) ( on ( a horse ) ) ) ( ( jump...</td>\n",
       "      <td>(ROOT (S (NP (NP (DT A) (NN person)) (PP (IN o...</td>\n",
       "      <td>A person is outdoors, on a horse.</td>\n",
       "      <td>( ( A person ) ( ( ( ( is outdoors ) , ) ( on ...</td>\n",
       "      <td>(ROOT (S (NP (DT A) (NN person)) (VP (VBZ is) ...</td>\n",
       "    </tr>\n",
       "    <tr>\n",
       "      <th>3</th>\n",
       "      <td>[neutral]</td>\n",
       "      <td>2267923837.jpg#2</td>\n",
       "      <td>neutral</td>\n",
       "      <td>2267923837.jpg#2r1n</td>\n",
       "      <td>Children smiling and waving at camera</td>\n",
       "      <td>( Children ( ( ( smiling and ) waving ) ( at c...</td>\n",
       "      <td>(ROOT (NP (S (NP (NNP Children)) (VP (VBG smil...</td>\n",
       "      <td>They are smiling at their parents</td>\n",
       "      <td>( They ( are ( smiling ( at ( their parents ) ...</td>\n",
       "      <td>(ROOT (S (NP (PRP They)) (VP (VBP are) (VP (VB...</td>\n",
       "    </tr>\n",
       "    <tr>\n",
       "      <th>4</th>\n",
       "      <td>[entailment]</td>\n",
       "      <td>2267923837.jpg#2</td>\n",
       "      <td>entailment</td>\n",
       "      <td>2267923837.jpg#2r1e</td>\n",
       "      <td>Children smiling and waving at camera</td>\n",
       "      <td>( Children ( ( ( smiling and ) waving ) ( at c...</td>\n",
       "      <td>(ROOT (NP (S (NP (NNP Children)) (VP (VBG smil...</td>\n",
       "      <td>There are children present</td>\n",
       "      <td>( There ( ( are children ) present ) )</td>\n",
       "      <td>(ROOT (S (NP (EX There)) (VP (VBP are) (NP (NN...</td>\n",
       "    </tr>\n",
       "  </tbody>\n",
       "</table>\n",
       "</div>"
      ],
      "text/plain": [
       "  annotator_labels         captionID     gold_label               pairID  \\\n",
       "0        [neutral]  3416050480.jpg#4        neutral  3416050480.jpg#4r1n   \n",
       "1  [contradiction]  3416050480.jpg#4  contradiction  3416050480.jpg#4r1c   \n",
       "2     [entailment]  3416050480.jpg#4     entailment  3416050480.jpg#4r1e   \n",
       "3        [neutral]  2267923837.jpg#2        neutral  2267923837.jpg#2r1n   \n",
       "4     [entailment]  2267923837.jpg#2     entailment  2267923837.jpg#2r1e   \n",
       "\n",
       "                                           sentence1  \\\n",
       "0  A person on a horse jumps over a broken down a...   \n",
       "1  A person on a horse jumps over a broken down a...   \n",
       "2  A person on a horse jumps over a broken down a...   \n",
       "3              Children smiling and waving at camera   \n",
       "4              Children smiling and waving at camera   \n",
       "\n",
       "                              sentence1_binary_parse  \\\n",
       "0  ( ( ( A person ) ( on ( a horse ) ) ) ( ( jump...   \n",
       "1  ( ( ( A person ) ( on ( a horse ) ) ) ( ( jump...   \n",
       "2  ( ( ( A person ) ( on ( a horse ) ) ) ( ( jump...   \n",
       "3  ( Children ( ( ( smiling and ) waving ) ( at c...   \n",
       "4  ( Children ( ( ( smiling and ) waving ) ( at c...   \n",
       "\n",
       "                                     sentence1_parse  \\\n",
       "0  (ROOT (S (NP (NP (DT A) (NN person)) (PP (IN o...   \n",
       "1  (ROOT (S (NP (NP (DT A) (NN person)) (PP (IN o...   \n",
       "2  (ROOT (S (NP (NP (DT A) (NN person)) (PP (IN o...   \n",
       "3  (ROOT (NP (S (NP (NNP Children)) (VP (VBG smil...   \n",
       "4  (ROOT (NP (S (NP (NNP Children)) (VP (VBG smil...   \n",
       "\n",
       "                                           sentence2  \\\n",
       "0  A person is training his horse for a competition.   \n",
       "1      A person is at a diner, ordering an omelette.   \n",
       "2                  A person is outdoors, on a horse.   \n",
       "3                  They are smiling at their parents   \n",
       "4                         There are children present   \n",
       "\n",
       "                              sentence2_binary_parse  \\\n",
       "0  ( ( A person ) ( ( is ( ( training ( his horse...   \n",
       "1  ( ( A person ) ( ( ( ( is ( at ( a diner ) ) )...   \n",
       "2  ( ( A person ) ( ( ( ( is outdoors ) , ) ( on ...   \n",
       "3  ( They ( are ( smiling ( at ( their parents ) ...   \n",
       "4             ( There ( ( are children ) present ) )   \n",
       "\n",
       "                                     sentence2_parse  \n",
       "0  (ROOT (S (NP (DT A) (NN person)) (VP (VBZ is) ...  \n",
       "1  (ROOT (S (NP (DT A) (NN person)) (VP (VBZ is) ...  \n",
       "2  (ROOT (S (NP (DT A) (NN person)) (VP (VBZ is) ...  \n",
       "3  (ROOT (S (NP (PRP They)) (VP (VBP are) (VP (VB...  \n",
       "4  (ROOT (S (NP (EX There)) (VP (VBP are) (NP (NN...  "
      ]
     },
     "execution_count": 4,
     "metadata": {},
     "output_type": "execute_result"
    }
   ],
   "source": [
    "df.head()"
   ]
  },
  {
   "cell_type": "code",
   "execution_count": 6,
   "metadata": {
    "colab": {
     "base_uri": "https://localhost:8080/"
    },
    "id": "B0L0PCro7AVI",
    "outputId": "9a1c4d8b-b8fd-4534-a108-8153a7dbb449"
   },
   "outputs": [
    {
     "data": {
      "text/plain": [
       "(550152, 10)"
      ]
     },
     "execution_count": 6,
     "metadata": {},
     "output_type": "execute_result"
    }
   ],
   "source": [
    "df.shape"
   ]
  },
  {
   "cell_type": "markdown",
   "metadata": {},
   "source": [
    "I decided to remove all entries without a gold label as follows:"
   ]
  },
  {
   "cell_type": "code",
   "execution_count": 7,
   "metadata": {
    "colab": {
     "base_uri": "https://localhost:8080/"
    },
    "id": "ujPbT2qLq2P_",
    "outputId": "fe326ec4-a1fd-40be-e488-24a8e5ba93d7"
   },
   "outputs": [
    {
     "data": {
      "text/plain": [
       "entailment       183416\n",
       "contradiction    183187\n",
       "neutral          182764\n",
       "-                   785\n",
       "Name: gold_label, dtype: int64"
      ]
     },
     "execution_count": 7,
     "metadata": {},
     "output_type": "execute_result"
    }
   ],
   "source": [
    "df['gold_label'].value_counts()"
   ]
  },
  {
   "cell_type": "code",
   "execution_count": 8,
   "metadata": {
    "id": "Bb7NWSpzq9aI"
   },
   "outputs": [],
   "source": [
    "df = df[df.gold_label != '-']"
   ]
  },
  {
   "cell_type": "code",
   "execution_count": 9,
   "metadata": {
    "id": "RAyYY1a0N6DB"
   },
   "outputs": [],
   "source": [
    "df_text = df[[\"gold_label\",\"sentence1\",\"sentence2\"]]"
   ]
  },
  {
   "cell_type": "code",
   "execution_count": 10,
   "metadata": {
    "colab": {
     "base_uri": "https://localhost:8080/"
    },
    "id": "b4Q8XjrbOZFm",
    "outputId": "bcbc9e0d-a4b4-4133-a384-6016a48f4345"
   },
   "outputs": [
    {
     "name": "stderr",
     "output_type": "stream",
     "text": [
      "C:\\Users\\nickj\\AppData\\Local\\Temp\\ipykernel_7016\\4003425532.py:1: SettingWithCopyWarning: \n",
      "A value is trying to be set on a copy of a slice from a DataFrame.\n",
      "Try using .loc[row_indexer,col_indexer] = value instead\n",
      "\n",
      "See the caveats in the documentation: https://pandas.pydata.org/pandas-docs/stable/user_guide/indexing.html#returning-a-view-versus-a-copy\n",
      "  df_text['label'] = df_text['gold_label'].apply(lambda x: 2 if x==\"entailment\" else 1 if x==\"neutral\" else 0)\n"
     ]
    }
   ],
   "source": [
    "df_text['label'] = df_text['gold_label'].apply(lambda x: 2 if x==\"entailment\" else 1 if x==\"neutral\" else 0)"
   ]
  },
  {
   "cell_type": "code",
   "execution_count": 11,
   "metadata": {
    "colab": {
     "base_uri": "https://localhost:8080/",
     "height": 206
    },
    "id": "vPvQgj5XOzz6",
    "outputId": "19ea2a6b-9b3f-4bff-e302-bff643f03201"
   },
   "outputs": [
    {
     "data": {
      "text/html": [
       "<div>\n",
       "<style scoped>\n",
       "    .dataframe tbody tr th:only-of-type {\n",
       "        vertical-align: middle;\n",
       "    }\n",
       "\n",
       "    .dataframe tbody tr th {\n",
       "        vertical-align: top;\n",
       "    }\n",
       "\n",
       "    .dataframe thead th {\n",
       "        text-align: right;\n",
       "    }\n",
       "</style>\n",
       "<table border=\"1\" class=\"dataframe\">\n",
       "  <thead>\n",
       "    <tr style=\"text-align: right;\">\n",
       "      <th></th>\n",
       "      <th>gold_label</th>\n",
       "      <th>sentence1</th>\n",
       "      <th>sentence2</th>\n",
       "      <th>label</th>\n",
       "    </tr>\n",
       "  </thead>\n",
       "  <tbody>\n",
       "    <tr>\n",
       "      <th>0</th>\n",
       "      <td>neutral</td>\n",
       "      <td>A person on a horse jumps over a broken down a...</td>\n",
       "      <td>A person is training his horse for a competition.</td>\n",
       "      <td>1</td>\n",
       "    </tr>\n",
       "    <tr>\n",
       "      <th>1</th>\n",
       "      <td>contradiction</td>\n",
       "      <td>A person on a horse jumps over a broken down a...</td>\n",
       "      <td>A person is at a diner, ordering an omelette.</td>\n",
       "      <td>0</td>\n",
       "    </tr>\n",
       "    <tr>\n",
       "      <th>2</th>\n",
       "      <td>entailment</td>\n",
       "      <td>A person on a horse jumps over a broken down a...</td>\n",
       "      <td>A person is outdoors, on a horse.</td>\n",
       "      <td>2</td>\n",
       "    </tr>\n",
       "    <tr>\n",
       "      <th>3</th>\n",
       "      <td>neutral</td>\n",
       "      <td>Children smiling and waving at camera</td>\n",
       "      <td>They are smiling at their parents</td>\n",
       "      <td>1</td>\n",
       "    </tr>\n",
       "    <tr>\n",
       "      <th>4</th>\n",
       "      <td>entailment</td>\n",
       "      <td>Children smiling and waving at camera</td>\n",
       "      <td>There are children present</td>\n",
       "      <td>2</td>\n",
       "    </tr>\n",
       "  </tbody>\n",
       "</table>\n",
       "</div>"
      ],
      "text/plain": [
       "      gold_label                                          sentence1  \\\n",
       "0        neutral  A person on a horse jumps over a broken down a...   \n",
       "1  contradiction  A person on a horse jumps over a broken down a...   \n",
       "2     entailment  A person on a horse jumps over a broken down a...   \n",
       "3        neutral              Children smiling and waving at camera   \n",
       "4     entailment              Children smiling and waving at camera   \n",
       "\n",
       "                                           sentence2  label  \n",
       "0  A person is training his horse for a competition.      1  \n",
       "1      A person is at a diner, ordering an omelette.      0  \n",
       "2                  A person is outdoors, on a horse.      2  \n",
       "3                  They are smiling at their parents      1  \n",
       "4                         There are children present      2  "
      ]
     },
     "execution_count": 11,
     "metadata": {},
     "output_type": "execute_result"
    }
   ],
   "source": [
    "df_text.head()"
   ]
  },
  {
   "cell_type": "code",
   "execution_count": 12,
   "metadata": {},
   "outputs": [],
   "source": [
    "df_text = df_text.sample(frac=1)"
   ]
  },
  {
   "cell_type": "markdown",
   "metadata": {},
   "source": [
    "Here, I use numpy to create seperate structures for the train data and the labels, one-hot encoded so that they are compatible with Tensorflow."
   ]
  },
  {
   "cell_type": "code",
   "execution_count": 13,
   "metadata": {
    "id": "7GQdXvISPQo_"
   },
   "outputs": [],
   "source": [
    "from sklearn.preprocessing import OneHotEncoder"
   ]
  },
  {
   "cell_type": "code",
   "execution_count": 14,
   "metadata": {
    "id": "Ny53JncQQ0id"
   },
   "outputs": [],
   "source": [
    "onehot = OneHotEncoder(sparse_output=False)"
   ]
  },
  {
   "cell_type": "code",
   "execution_count": 15,
   "metadata": {
    "colab": {
     "base_uri": "https://localhost:8080/"
    },
    "id": "V8t05-MzPLgn",
    "outputId": "6dba0362-251c-4eb4-e40f-168a725c290c"
   },
   "outputs": [],
   "source": [
    "train_pairs = df_text[['sentence1','sentence2']].to_numpy().astype('str')\n",
    "train_labels_one_hot = onehot.fit_transform(df_text['label'].to_numpy().reshape(-1,1))"
   ]
  },
  {
   "cell_type": "markdown",
   "metadata": {},
   "source": [
    "I then undergo the same process with the validation data."
   ]
  },
  {
   "cell_type": "code",
   "execution_count": 16,
   "metadata": {
    "id": "viFk5ZN9PP0_"
   },
   "outputs": [],
   "source": [
    "with open('snli_1.0/snli_1.0/snli_1.0_dev.jsonl') as data:\n",
    "  lines = data.read().splitlines()\n",
    "  line_dicts = [json.loads(line) for line in lines]\n",
    "  df_val = pd.DataFrame(line_dicts)"
   ]
  },
  {
   "cell_type": "code",
   "execution_count": 17,
   "metadata": {
    "colab": {
     "base_uri": "https://localhost:8080/"
    },
    "id": "0qyAutsOrLU7",
    "outputId": "40d5d40b-1343-4d12-e0e0-ac36d3181c3b"
   },
   "outputs": [
    {
     "data": {
      "text/plain": [
       "entailment       3329\n",
       "contradiction    3278\n",
       "neutral          3235\n",
       "-                 158\n",
       "Name: gold_label, dtype: int64"
      ]
     },
     "execution_count": 17,
     "metadata": {},
     "output_type": "execute_result"
    }
   ],
   "source": [
    "df_val['gold_label'].value_counts()"
   ]
  },
  {
   "cell_type": "code",
   "execution_count": 18,
   "metadata": {
    "id": "QiFYtsb6rgad"
   },
   "outputs": [],
   "source": [
    "df_val = df_val[df_val.gold_label != '-']"
   ]
  },
  {
   "cell_type": "code",
   "execution_count": 19,
   "metadata": {
    "id": "Gh5p_mBMQCbI"
   },
   "outputs": [],
   "source": [
    "df_val['label'] = df_val['gold_label'].apply(lambda x: 2 if x==\"entailment\" else 1 if x==\"neutral\" else 0)"
   ]
  },
  {
   "cell_type": "code",
   "execution_count": 20,
   "metadata": {
    "colab": {
     "base_uri": "https://localhost:8080/",
     "height": 380
    },
    "id": "uGa7963MQOtV",
    "outputId": "f9cb96be-df33-45d7-b40c-480734056cb2"
   },
   "outputs": [
    {
     "data": {
      "text/html": [
       "<div>\n",
       "<style scoped>\n",
       "    .dataframe tbody tr th:only-of-type {\n",
       "        vertical-align: middle;\n",
       "    }\n",
       "\n",
       "    .dataframe tbody tr th {\n",
       "        vertical-align: top;\n",
       "    }\n",
       "\n",
       "    .dataframe thead th {\n",
       "        text-align: right;\n",
       "    }\n",
       "</style>\n",
       "<table border=\"1\" class=\"dataframe\">\n",
       "  <thead>\n",
       "    <tr style=\"text-align: right;\">\n",
       "      <th></th>\n",
       "      <th>annotator_labels</th>\n",
       "      <th>captionID</th>\n",
       "      <th>gold_label</th>\n",
       "      <th>pairID</th>\n",
       "      <th>sentence1</th>\n",
       "      <th>sentence1_binary_parse</th>\n",
       "      <th>sentence1_parse</th>\n",
       "      <th>sentence2</th>\n",
       "      <th>sentence2_binary_parse</th>\n",
       "      <th>sentence2_parse</th>\n",
       "      <th>label</th>\n",
       "    </tr>\n",
       "  </thead>\n",
       "  <tbody>\n",
       "    <tr>\n",
       "      <th>0</th>\n",
       "      <td>[neutral, entailment, neutral, neutral, neutral]</td>\n",
       "      <td>4705552913.jpg#2</td>\n",
       "      <td>neutral</td>\n",
       "      <td>4705552913.jpg#2r1n</td>\n",
       "      <td>Two women are embracing while holding to go pa...</td>\n",
       "      <td>( ( Two women ) ( ( are ( embracing ( while ( ...</td>\n",
       "      <td>(ROOT (S (NP (CD Two) (NNS women)) (VP (VBP ar...</td>\n",
       "      <td>The sisters are hugging goodbye while holding ...</td>\n",
       "      <td>( ( The sisters ) ( ( are ( ( hugging goodbye ...</td>\n",
       "      <td>(ROOT (S (NP (DT The) (NNS sisters)) (VP (VBP ...</td>\n",
       "      <td>1</td>\n",
       "    </tr>\n",
       "    <tr>\n",
       "      <th>1</th>\n",
       "      <td>[entailment, entailment, entailment, entailmen...</td>\n",
       "      <td>4705552913.jpg#2</td>\n",
       "      <td>entailment</td>\n",
       "      <td>4705552913.jpg#2r1e</td>\n",
       "      <td>Two women are embracing while holding to go pa...</td>\n",
       "      <td>( ( Two women ) ( ( are ( embracing ( while ( ...</td>\n",
       "      <td>(ROOT (S (NP (CD Two) (NNS women)) (VP (VBP ar...</td>\n",
       "      <td>Two woman are holding packages.</td>\n",
       "      <td>( ( Two woman ) ( ( are ( holding packages ) )...</td>\n",
       "      <td>(ROOT (S (NP (CD Two) (NN woman)) (VP (VBP are...</td>\n",
       "      <td>2</td>\n",
       "    </tr>\n",
       "    <tr>\n",
       "      <th>2</th>\n",
       "      <td>[contradiction, contradiction, contradiction, ...</td>\n",
       "      <td>4705552913.jpg#2</td>\n",
       "      <td>contradiction</td>\n",
       "      <td>4705552913.jpg#2r1c</td>\n",
       "      <td>Two women are embracing while holding to go pa...</td>\n",
       "      <td>( ( Two women ) ( ( are ( embracing ( while ( ...</td>\n",
       "      <td>(ROOT (S (NP (CD Two) (NNS women)) (VP (VBP ar...</td>\n",
       "      <td>The men are fighting outside a deli.</td>\n",
       "      <td>( ( The men ) ( ( are ( fighting ( outside ( a...</td>\n",
       "      <td>(ROOT (S (NP (DT The) (NNS men)) (VP (VBP are)...</td>\n",
       "      <td>0</td>\n",
       "    </tr>\n",
       "    <tr>\n",
       "      <th>3</th>\n",
       "      <td>[entailment, entailment, entailment, entailmen...</td>\n",
       "      <td>2407214681.jpg#0</td>\n",
       "      <td>entailment</td>\n",
       "      <td>2407214681.jpg#0r1e</td>\n",
       "      <td>Two young children in blue jerseys, one with t...</td>\n",
       "      <td>( ( ( Two ( young children ) ) ( in ( ( ( ( ( ...</td>\n",
       "      <td>(ROOT (S (NP (NP (CD Two) (JJ young) (NNS chil...</td>\n",
       "      <td>Two kids in numbered jerseys wash their hands.</td>\n",
       "      <td>( ( ( Two kids ) ( in ( numbered jerseys ) ) )...</td>\n",
       "      <td>(ROOT (S (NP (NP (CD Two) (NNS kids)) (PP (IN ...</td>\n",
       "      <td>2</td>\n",
       "    </tr>\n",
       "    <tr>\n",
       "      <th>4</th>\n",
       "      <td>[neutral, neutral, neutral, entailment, entail...</td>\n",
       "      <td>2407214681.jpg#0</td>\n",
       "      <td>neutral</td>\n",
       "      <td>2407214681.jpg#0r1n</td>\n",
       "      <td>Two young children in blue jerseys, one with t...</td>\n",
       "      <td>( ( ( Two ( young children ) ) ( in ( ( ( ( ( ...</td>\n",
       "      <td>(ROOT (S (NP (NP (CD Two) (JJ young) (NNS chil...</td>\n",
       "      <td>Two kids at a ballgame wash their hands.</td>\n",
       "      <td>( ( ( Two kids ) ( at ( a ballgame ) ) ) ( ( w...</td>\n",
       "      <td>(ROOT (S (NP (NP (CD Two) (NNS kids)) (PP (IN ...</td>\n",
       "      <td>1</td>\n",
       "    </tr>\n",
       "  </tbody>\n",
       "</table>\n",
       "</div>"
      ],
      "text/plain": [
       "                                    annotator_labels         captionID  \\\n",
       "0   [neutral, entailment, neutral, neutral, neutral]  4705552913.jpg#2   \n",
       "1  [entailment, entailment, entailment, entailmen...  4705552913.jpg#2   \n",
       "2  [contradiction, contradiction, contradiction, ...  4705552913.jpg#2   \n",
       "3  [entailment, entailment, entailment, entailmen...  2407214681.jpg#0   \n",
       "4  [neutral, neutral, neutral, entailment, entail...  2407214681.jpg#0   \n",
       "\n",
       "      gold_label               pairID  \\\n",
       "0        neutral  4705552913.jpg#2r1n   \n",
       "1     entailment  4705552913.jpg#2r1e   \n",
       "2  contradiction  4705552913.jpg#2r1c   \n",
       "3     entailment  2407214681.jpg#0r1e   \n",
       "4        neutral  2407214681.jpg#0r1n   \n",
       "\n",
       "                                           sentence1  \\\n",
       "0  Two women are embracing while holding to go pa...   \n",
       "1  Two women are embracing while holding to go pa...   \n",
       "2  Two women are embracing while holding to go pa...   \n",
       "3  Two young children in blue jerseys, one with t...   \n",
       "4  Two young children in blue jerseys, one with t...   \n",
       "\n",
       "                              sentence1_binary_parse  \\\n",
       "0  ( ( Two women ) ( ( are ( embracing ( while ( ...   \n",
       "1  ( ( Two women ) ( ( are ( embracing ( while ( ...   \n",
       "2  ( ( Two women ) ( ( are ( embracing ( while ( ...   \n",
       "3  ( ( ( Two ( young children ) ) ( in ( ( ( ( ( ...   \n",
       "4  ( ( ( Two ( young children ) ) ( in ( ( ( ( ( ...   \n",
       "\n",
       "                                     sentence1_parse  \\\n",
       "0  (ROOT (S (NP (CD Two) (NNS women)) (VP (VBP ar...   \n",
       "1  (ROOT (S (NP (CD Two) (NNS women)) (VP (VBP ar...   \n",
       "2  (ROOT (S (NP (CD Two) (NNS women)) (VP (VBP ar...   \n",
       "3  (ROOT (S (NP (NP (CD Two) (JJ young) (NNS chil...   \n",
       "4  (ROOT (S (NP (NP (CD Two) (JJ young) (NNS chil...   \n",
       "\n",
       "                                           sentence2  \\\n",
       "0  The sisters are hugging goodbye while holding ...   \n",
       "1                    Two woman are holding packages.   \n",
       "2               The men are fighting outside a deli.   \n",
       "3     Two kids in numbered jerseys wash their hands.   \n",
       "4           Two kids at a ballgame wash their hands.   \n",
       "\n",
       "                              sentence2_binary_parse  \\\n",
       "0  ( ( The sisters ) ( ( are ( ( hugging goodbye ...   \n",
       "1  ( ( Two woman ) ( ( are ( holding packages ) )...   \n",
       "2  ( ( The men ) ( ( are ( fighting ( outside ( a...   \n",
       "3  ( ( ( Two kids ) ( in ( numbered jerseys ) ) )...   \n",
       "4  ( ( ( Two kids ) ( at ( a ballgame ) ) ) ( ( w...   \n",
       "\n",
       "                                     sentence2_parse  label  \n",
       "0  (ROOT (S (NP (DT The) (NNS sisters)) (VP (VBP ...      1  \n",
       "1  (ROOT (S (NP (CD Two) (NN woman)) (VP (VBP are...      2  \n",
       "2  (ROOT (S (NP (DT The) (NNS men)) (VP (VBP are)...      0  \n",
       "3  (ROOT (S (NP (NP (CD Two) (NNS kids)) (PP (IN ...      2  \n",
       "4  (ROOT (S (NP (NP (CD Two) (NNS kids)) (PP (IN ...      1  "
      ]
     },
     "execution_count": 20,
     "metadata": {},
     "output_type": "execute_result"
    }
   ],
   "source": [
    "df_val.head()"
   ]
  },
  {
   "cell_type": "code",
   "execution_count": 21,
   "metadata": {
    "colab": {
     "base_uri": "https://localhost:8080/"
    },
    "id": "VsSgrjQDQTsq",
    "outputId": "f9eea2b1-53af-4267-c4b3-9db4639e1756"
   },
   "outputs": [],
   "source": [
    "val_pairs = df_val[['sentence1','sentence2']].to_numpy().astype('str')\n",
    "val_labels_one_hot = onehot.fit_transform(df_val['label'].to_numpy().reshape(-1,1))"
   ]
  },
  {
   "cell_type": "code",
   "execution_count": 22,
   "metadata": {},
   "outputs": [
    {
     "data": {
      "text/html": [
       "<div>\n",
       "<style scoped>\n",
       "    .dataframe tbody tr th:only-of-type {\n",
       "        vertical-align: middle;\n",
       "    }\n",
       "\n",
       "    .dataframe tbody tr th {\n",
       "        vertical-align: top;\n",
       "    }\n",
       "\n",
       "    .dataframe thead th {\n",
       "        text-align: right;\n",
       "    }\n",
       "</style>\n",
       "<table border=\"1\" class=\"dataframe\">\n",
       "  <thead>\n",
       "    <tr style=\"text-align: right;\">\n",
       "      <th></th>\n",
       "      <th>gold_label</th>\n",
       "      <th>sentence1</th>\n",
       "      <th>sentence2</th>\n",
       "      <th>label</th>\n",
       "    </tr>\n",
       "  </thead>\n",
       "  <tbody>\n",
       "    <tr>\n",
       "      <th>262262</th>\n",
       "      <td>contradiction</td>\n",
       "      <td>A person, who appears to be male, is riding a ...</td>\n",
       "      <td>The woman is flying a kite.</td>\n",
       "      <td>0</td>\n",
       "    </tr>\n",
       "    <tr>\n",
       "      <th>515058</th>\n",
       "      <td>contradiction</td>\n",
       "      <td>A balding man is waving for the camera as he i...</td>\n",
       "      <td>The bald man is sitting alone in a vehicle.</td>\n",
       "      <td>0</td>\n",
       "    </tr>\n",
       "    <tr>\n",
       "      <th>490452</th>\n",
       "      <td>entailment</td>\n",
       "      <td>Man in red shorts and white shirt kicking a so...</td>\n",
       "      <td>The man is making his leg move.</td>\n",
       "      <td>2</td>\n",
       "    </tr>\n",
       "    <tr>\n",
       "      <th>69211</th>\n",
       "      <td>entailment</td>\n",
       "      <td>An elderly man watches a younger man grill var...</td>\n",
       "      <td>an old man watching another man grill</td>\n",
       "      <td>2</td>\n",
       "    </tr>\n",
       "    <tr>\n",
       "      <th>545076</th>\n",
       "      <td>neutral</td>\n",
       "      <td>The elderly lady in the green dress walks down...</td>\n",
       "      <td>An old woman is walking to get to the grocery ...</td>\n",
       "      <td>1</td>\n",
       "    </tr>\n",
       "  </tbody>\n",
       "</table>\n",
       "</div>"
      ],
      "text/plain": [
       "           gold_label                                          sentence1  \\\n",
       "262262  contradiction  A person, who appears to be male, is riding a ...   \n",
       "515058  contradiction  A balding man is waving for the camera as he i...   \n",
       "490452     entailment  Man in red shorts and white shirt kicking a so...   \n",
       "69211      entailment  An elderly man watches a younger man grill var...   \n",
       "545076        neutral  The elderly lady in the green dress walks down...   \n",
       "\n",
       "                                                sentence2  label  \n",
       "262262                        The woman is flying a kite.      0  \n",
       "515058        The bald man is sitting alone in a vehicle.      0  \n",
       "490452                    The man is making his leg move.      2  \n",
       "69211               an old man watching another man grill      2  \n",
       "545076  An old woman is walking to get to the grocery ...      1  "
      ]
     },
     "execution_count": 22,
     "metadata": {},
     "output_type": "execute_result"
    }
   ],
   "source": [
    "df_text.head()"
   ]
  },
  {
   "cell_type": "markdown",
   "metadata": {},
   "source": [
    "A potential issue is the presence of words in the validation data which aren't in the train data. This would mean that there would be no vectorization and embedding available for these words, so the model may perform poorly on sentences containing them.\n",
    "\n",
    "I write some code to determine the number of unique words in the train set, the validation set, and the difference between them."
   ]
  },
  {
   "cell_type": "code",
   "execution_count": 23,
   "metadata": {},
   "outputs": [],
   "source": [
    "unique_words_train = set()\n",
    "\n",
    "for i,row in df_text.iterrows():\n",
    "    s1 = row['sentence1'].lower().split()\n",
    "    s2 = row['sentence2'].lower().split()\n",
    "    for s in s1:\n",
    "        unique_words_train.add(s)\n",
    "    for s in s2:\n",
    "        unique_words_train.add(s)"
   ]
  },
  {
   "cell_type": "code",
   "execution_count": 24,
   "metadata": {},
   "outputs": [],
   "source": [
    "unique_words_val = set()\n",
    "\n",
    "for i,row in df_val.iterrows():\n",
    "    s1 = row['sentence1'].lower().split()\n",
    "    s2 = row['sentence2'].lower().split()\n",
    "    for s in s1:\n",
    "        unique_words_val.add(s)\n",
    "    for s in s2:\n",
    "        unique_words_val.add(s)"
   ]
  },
  {
   "cell_type": "code",
   "execution_count": 25,
   "metadata": {},
   "outputs": [
    {
     "name": "stdout",
     "output_type": "stream",
     "text": [
      "Number of unique words in train set: 56218\n",
      "Number of unique words in val set: 8693\n",
      "Number of unique words in val set that are not in train set: 525\n"
     ]
    }
   ],
   "source": [
    "print(f\"Number of unique words in train set: {len(unique_words_train)}\")\n",
    "print(f\"Number of unique words in val set: {len(unique_words_val)}\")\n",
    "print(f\"Number of unique words in val set that are not in train set: {len(unique_words_val.difference(unique_words_train))}\")"
   ]
  },
  {
   "cell_type": "code",
   "execution_count": 26,
   "metadata": {},
   "outputs": [
    {
     "name": "stdout",
     "output_type": "stream",
     "text": [
      "{'pistil', 'muliple', 'serviced.', 'fuse.', 'plush,', 'talky.', 'scalp.', '2590\"', 'prophylactic', 'silhoutte', 'suspenseful', 'prepaing', 'retrive', 'lapdances', 'globetrotter,', 'year!', 'orannge', '\"connie', 'medow', 'leasing', 'viwed', '\"atlantis', 'meddling', 'keystone', 'twain', 'paragliders', 'flyer-like', 'break-dancing.', 'slash', 'zip-front', 'created,', 'tether,', 'throu', 'uncertain', 'feamle', 'fades.', 'bronze-skinned', 'sidewalks,', 'dlying', 'airman.', 'smartphone,', 'alfresco', 'breakthrough.', 'kun', 'spikes,', 'vet,', 'quiznos.', 'fortunately', '2pac', 'refletive', 'babecued', '7,', 'stardust.', '\"l.a.', 'sogn', 're-dam', 'sales,', 'chopped-up', 'cleverly', '916', 'gosling', 'unsucessfully.', 'cig', '\"photographers', 'pepper,\"', 'tie-front', 'walky', 'stone-block', 'indulging', 'mummers', '67', 'inspections', 'hostel', '\"d\"', 'blisters', 'blowfish', 'littermate', 'payphone,', 'country-side.', \"mummy's\", \"deers'\", 'storied.', 'interpreting', 'igloo,', 'hottub.', 'groomers,', 'fluffs', 'base.a', 'graffiti-tagged', 'dumbo.', 'teetotalers', 'portrays', '\"safe\"', 'hardcore', 'esthetically', 'peoples,', 'jeans,&', 'alarms', 'listening,', 'plaques,', 'rollerskater.', 'torch-bearing', 'rock-climbs', 'ray-bans', 'skrillex.', 'kneavel', 'chosing', 'bluegrass.', 'fda,', 'wards,', 'living-room.', 'pamper', 'elephants,', \"bench's\", 'iliad.', 'heelie', 'cover-up', 'compile.', '\"53:11\".', 'bhudda', 'bathering', 'upstanding', 'crossbow', 'foutain', 'poweder', 'long-beaked', 'histerically.', 'unmixed', 'costumer', 'taller,', 'amtrack', 'childless.', 'time-traveled', 'pal,\"', 'tiring.', '\"ok', 'squarely', 'glowers', 'trinidad.', 'psychial', 'category.', 'cumberbund.', 'grannys', 'wavelength', 'transcends', 'phrases.', '\"camden\".', 'blue-wheeled', 'poky', 'seafoam', 'preschool,', 'hooligans', 'horseplaying.', 'decline', 'gallop.', 'slender,', 'mussel.', 'ivories.', 'ten-speed', 'prology', 'stile', 'token', 'lawm.', 'aerodynamically', 'motorcycled', 'chain:', 'bonnabos', 'ok,', 'freshly-shaved', 'salt-and-pepper-haired', 'awok.', 'corn-on-the-cob', 'queen,', 'strecthing', 'oakland.', 'rehearses.', \"lego's\", 'cherry-red', 'wicketkeeper', 'dorthy', 'boundaries', 'peppermints.', 'sounding.', \"atv's,\", 'duplicate', 'relocate', 'mits', 'nationality', 'destitution.', 'supplied', 'pros.', 'coordinating', 'bicycle-driven', 'all-guy', 'makeout', 'complexion.', 'compliment.', '\"ben\"', 'appealing', 'sabotaged', 'robe-style', 'waterskiier.', \"women's-only\", 'downed,', 'gritted', 'wooded,', 'smuggle', 'scalding', 'meringue', 'flushed.', 'zydeco.', 'yellow-wheeled', 'squirel.', '\"lotos.\"', 'cushion,', 'canoeists', 'wood-stacked', 'mini-dresses', 'modle.', 'gawk.', 'romania,', 'diverge', 'hangers', 'leakage', 'doles', 'toronto,', 'navy-blue', 'vacuumming', 'reson', '\"why\"', 'gray-scale', 'skulls.', 'warlord', \"behind'\", 'thebeach', '\"cheese\".', 'tomato-colored', 'soemone.', 'camelbak', 'sincerity', 'funiture.', '\"rams\"', 'abd', 're-sod', 'icicles.', 'acthes', 'pantsless', 'hatching', 'embarrass', 'glints', 'mop-pad.', 'honolulu.', 'brands.', 'ruble', 'acrobatic,', 'inserted', 'chimneys', 'fairy,', 'imatating', 'diagnostics', 'joshua', 'high-wire', 'umbrella-like', 'tearful', 'pink-polkadotted', 'pistal.', 'babies\"', 'ucla.', 'muffler', 'chrased.', 'lemons!', 'pharmaceutical', 'mermaid,', 'prix', 'magically', 'lives!', 'simulation.', 'poker,', 'sit-and-spin', 'jeffs', 'beac', 'septu\"', '\"wheelpower\"', 'steering,', 'motorcade', 'snag,', 'blue-white', \"bikini's.\", 'alabaster', 'yacthing', '\"backyard', 'macbeth.', 'captor.', 'convict.', 'jews,', 'margin.', 'possibility', 'flowered,', 'sledgehammers.', 'hickock', 'art\"', 'calligrapher', 'vaucuming', 'hooker.\"', 'tropical.', '\"aeropostale\"', 'supplying', 'tissues.\"', '\"car\"', 'opppsing', 'futures.', 'deleted.', 'prompt', 'all-girl', 'fema', 'superbike.', 'marathong.', 'informer.', 'wooden-floored', 'insecure.', 'firefighter,', 'cabinetry.', 'bruise', 'prop,', '\"poncho', 'acorns', 'lakefront.', 'tries.', 'anap.', 'spin-art.', 'twerking', 'sandwhich.', 'backseat,', \"a'no\", 'backset', 'lesions', 'rt.', 'porto', 'bast', 'botanists', 'demostration.', 'eating;', 'charis.', 'merry.', 'condominiums.', 'helments', 'afraican', 'predators\"', 'infamous', 'swimsuites', 'hula-hoop,', \"bloomingdale's.\", 'commandos', 'fuchsia,', 'afar,', 'clothespins.', 'caine.', 'sousa', 'tapdance', 'jerks', 'aristrocrats', 'minimart', 'brew', 'impairment', 'balances.', 'skeleton-printed', '3-d', 'greasepaint', 'officials,', 'maching', 'representatives,', 'birthday.\"', 'seraching', 'gondula.', 'kathmandu', 'perfection.', 'ego', 'inhaling.', 'hollywood,', 'nuzzling.', 'tailgaiting.', 'top-hat,', 'innards', 'work..', 'unclimbable', 'words,', 'reknown', 'air-force', 'girll', 'indain', 'suckles', '\"chris\"', 'raging!', 'tenni.s', 'gurnee.', 'garage-like', 'mccain.', 'humean', 'posy', 'blindly-lit', 'unhygenic', 'windowpane-plaid', 'ring-bearing', 'drowining.', 'tanning,', 'troublemakers.', 'equalization.', 'participcating', 'dr,', 'curate', 'tin.', 'frowned.', 'marbellos.', 'specializing', 'triplets.', 'duplicity.', 'worshipers.', 'tinny', '2-3', 'electronics,', 'lettuces', 'televisions,', '12-speed', \"tiffany's.\", 'onlooker,', 'half-wall', 'chocolate-colored', 'devise', 'jazzwomen', 'frizzy-haired', 'sprinklers,', 'instructs.', '10ft', 'sportscenter', \"killer'\", 'apple\"', 'grnad', 'sheperds', 'teeball.', 'sincerely', 'semester.', 'gravel,', 'theather.', 'dread-locked', 'golden-colored', 'diess', 'trimmings', 'rockband', 'spiny', \"ring-bearer's\", 'tailwhips', '\"sparkasse\"', 'conditions,', 'felicitations', 'teanager', 'pits.', 'driftrood', 'load,', 'parisian', 'skyscaper', 'knelling', 'lb', 'bumpers', 'tanner', 'fivem', 'ionosphere.', 'earth-moving', 'contemporaries', 'mushy', 'tabs.', 'south\",', 'pillage', '569', 'inflate.', 'decisions,', 'checkered.', 'words:berlin', 'sneakered', 'routines-', 'midsection', 'guppies', 'fabic', 'wherever', 'hypothermia', 'fertilizer', 'percussive', 'poodles,', 'hawaiins', 'cruiser-style', 'wisdom', 'manga.', 'rising,', 'enviroment', 'greetings,', 'pee-wee', '\"juiciest', 'loafers', 'low-growth,', 'perfom.', 'cutters', 'attacking,', 'onthe', \"trolley's\", 'ingest', 'stick-like', 'geriatric', 'establishes', 'moustache)', \"husband'\", 'perfomers', 'beneth', 'pierces', 'intrumental', 'mini-gold', 'unamused,', 'street-front,', 'findings.', 'astronamer', 'astonished.', 'recipients.', 'separately,', 'manicure,', 'incorporates', 'lofts', '\"sol'}\n"
     ]
    }
   ],
   "source": [
    "print(unique_words_val.difference(unique_words_train))"
   ]
  },
  {
   "cell_type": "markdown",
   "metadata": {},
   "source": [
    "A cursory observation of the excluded words above indicates that they are for the most part not going to occur very frequently, many of them being misspellings or containing additional punctuation. Therefore, creating the vocabulary from the training data isn't going to pose an issue."
   ]
  },
  {
   "cell_type": "markdown",
   "metadata": {},
   "source": [
    "I also checked the average and maximum lengths of sentences belonging to each class, and they turned out to be almost identical. This means that there isn't potential for the classifier performing in a biased manner with regard to sentence length."
   ]
  },
  {
   "cell_type": "code",
   "execution_count": 27,
   "metadata": {},
   "outputs": [],
   "source": [
    "df_text['len1'] = df_text['sentence1'].apply(lambda x: len(x.split()))\n",
    "df_text['len2'] = df_text['sentence2'].apply(lambda x: len(x.split()))"
   ]
  },
  {
   "cell_type": "code",
   "execution_count": 28,
   "metadata": {},
   "outputs": [],
   "source": [
    "df_text_e = df_text[df_text['label']==2]\n",
    "df_text_n = df_text[df_text['label']==1]\n",
    "df_text_c = df_text[df_text['label']==0]"
   ]
  },
  {
   "cell_type": "code",
   "execution_count": 29,
   "metadata": {},
   "outputs": [
    {
     "data": {
      "text/html": [
       "<div>\n",
       "<style scoped>\n",
       "    .dataframe tbody tr th:only-of-type {\n",
       "        vertical-align: middle;\n",
       "    }\n",
       "\n",
       "    .dataframe tbody tr th {\n",
       "        vertical-align: top;\n",
       "    }\n",
       "\n",
       "    .dataframe thead th {\n",
       "        text-align: right;\n",
       "    }\n",
       "</style>\n",
       "<table border=\"1\" class=\"dataframe\">\n",
       "  <thead>\n",
       "    <tr style=\"text-align: right;\">\n",
       "      <th></th>\n",
       "      <th>gold_label</th>\n",
       "      <th>sentence1</th>\n",
       "      <th>sentence2</th>\n",
       "      <th>label</th>\n",
       "      <th>len1</th>\n",
       "      <th>len2</th>\n",
       "    </tr>\n",
       "  </thead>\n",
       "  <tbody>\n",
       "    <tr>\n",
       "      <th>490452</th>\n",
       "      <td>entailment</td>\n",
       "      <td>Man in red shorts and white shirt kicking a so...</td>\n",
       "      <td>The man is making his leg move.</td>\n",
       "      <td>2</td>\n",
       "      <td>11</td>\n",
       "      <td>7</td>\n",
       "    </tr>\n",
       "    <tr>\n",
       "      <th>69211</th>\n",
       "      <td>entailment</td>\n",
       "      <td>An elderly man watches a younger man grill var...</td>\n",
       "      <td>an old man watching another man grill</td>\n",
       "      <td>2</td>\n",
       "      <td>10</td>\n",
       "      <td>7</td>\n",
       "    </tr>\n",
       "    <tr>\n",
       "      <th>486550</th>\n",
       "      <td>entailment</td>\n",
       "      <td>There is a woman holding her baby daughter whi...</td>\n",
       "      <td>woman carrying her daughter.</td>\n",
       "      <td>2</td>\n",
       "      <td>12</td>\n",
       "      <td>4</td>\n",
       "    </tr>\n",
       "    <tr>\n",
       "      <th>311887</th>\n",
       "      <td>entailment</td>\n",
       "      <td>A girl in a sweater is blocking the suns rays.</td>\n",
       "      <td>A girl is outside</td>\n",
       "      <td>2</td>\n",
       "      <td>10</td>\n",
       "      <td>4</td>\n",
       "    </tr>\n",
       "    <tr>\n",
       "      <th>125609</th>\n",
       "      <td>entailment</td>\n",
       "      <td>Two babies are asleep in messy highchairs in f...</td>\n",
       "      <td>Babies sleep after their meal.</td>\n",
       "      <td>2</td>\n",
       "      <td>12</td>\n",
       "      <td>5</td>\n",
       "    </tr>\n",
       "  </tbody>\n",
       "</table>\n",
       "</div>"
      ],
      "text/plain": [
       "        gold_label                                          sentence1  \\\n",
       "490452  entailment  Man in red shorts and white shirt kicking a so...   \n",
       "69211   entailment  An elderly man watches a younger man grill var...   \n",
       "486550  entailment  There is a woman holding her baby daughter whi...   \n",
       "311887  entailment     A girl in a sweater is blocking the suns rays.   \n",
       "125609  entailment  Two babies are asleep in messy highchairs in f...   \n",
       "\n",
       "                                    sentence2  label  len1  len2  \n",
       "490452        The man is making his leg move.      2    11     7  \n",
       "69211   an old man watching another man grill      2    10     7  \n",
       "486550           woman carrying her daughter.      2    12     4  \n",
       "311887                      A girl is outside      2    10     4  \n",
       "125609         Babies sleep after their meal.      2    12     5  "
      ]
     },
     "execution_count": 29,
     "metadata": {},
     "output_type": "execute_result"
    }
   ],
   "source": [
    "df_text_e.head()"
   ]
  },
  {
   "cell_type": "code",
   "execution_count": 30,
   "metadata": {},
   "outputs": [
    {
     "name": "stdout",
     "output_type": "stream",
     "text": [
      "78\n",
      "78\n",
      "78\n"
     ]
    }
   ],
   "source": [
    "print(max(df_text_e['len1']))\n",
    "print(max(df_text_n['len1']))\n",
    "print(max(df_text_c['len1']))"
   ]
  },
  {
   "cell_type": "code",
   "execution_count": 31,
   "metadata": {},
   "outputs": [
    {
     "name": "stdout",
     "output_type": "stream",
     "text": [
      "12.84895538011951\n",
      "12.849122365454903\n",
      "12.850049403068995\n"
     ]
    }
   ],
   "source": [
    "print(df_text_e['len1'].mean())\n",
    "print(df_text_n['len1'].mean())\n",
    "print(df_text_c['len1'].mean())"
   ]
  },
  {
   "cell_type": "markdown",
   "metadata": {
    "id": "QHhPlfJIizlJ"
   },
   "source": [
    "### Section 2: Vectorization and Embedding"
   ]
  },
  {
   "cell_type": "code",
   "execution_count": 32,
   "metadata": {
    "id": "yFdJctQyk_yn"
   },
   "outputs": [],
   "source": [
    "from tensorflow.keras import layers"
   ]
  },
  {
   "cell_type": "markdown",
   "metadata": {},
   "source": [
    "Here, I observe the maximum number of tokens in the train sentences, in addition to the 95th percentile."
   ]
  },
  {
   "cell_type": "code",
   "execution_count": 33,
   "metadata": {
    "id": "4mMySEt4p5X8"
   },
   "outputs": [],
   "source": [
    "sent_lens1 = [len(s[0].split()) for s in train_pairs]\n",
    "sent_lens2 = [len(s[1].split()) for s in train_pairs]"
   ]
  },
  {
   "cell_type": "code",
   "execution_count": 34,
   "metadata": {
    "colab": {
     "base_uri": "https://localhost:8080/"
    },
    "id": "ShM-QzpYquzs",
    "outputId": "b20edfec-bbdc-4212-cb0e-d75f3fd26db6"
   },
   "outputs": [
    {
     "data": {
      "text/plain": [
       "(78, 56)"
      ]
     },
     "execution_count": 34,
     "metadata": {},
     "output_type": "execute_result"
    }
   ],
   "source": [
    "max(sent_lens1), max(sent_lens2)"
   ]
  },
  {
   "cell_type": "code",
   "execution_count": 35,
   "metadata": {
    "colab": {
     "base_uri": "https://localhost:8080/"
    },
    "id": "Gk-NwNJ1q8JV",
    "outputId": "36d0c37f-6824-4ca4-c9cc-73cab712cfbb"
   },
   "outputs": [
    {
     "data": {
      "text/plain": [
       "23"
      ]
     },
     "execution_count": 35,
     "metadata": {},
     "output_type": "execute_result"
    }
   ],
   "source": [
    "int(np.percentile(sent_lens1,95))"
   ]
  },
  {
   "cell_type": "code",
   "execution_count": 36,
   "metadata": {},
   "outputs": [],
   "source": [
    "df_text['len'] = df_text['sentence1'].apply(lambda x: len(x.split()))"
   ]
  },
  {
   "cell_type": "code",
   "execution_count": 37,
   "metadata": {},
   "outputs": [
    {
     "data": {
      "text/html": [
       "<div>\n",
       "<style scoped>\n",
       "    .dataframe tbody tr th:only-of-type {\n",
       "        vertical-align: middle;\n",
       "    }\n",
       "\n",
       "    .dataframe tbody tr th {\n",
       "        vertical-align: top;\n",
       "    }\n",
       "\n",
       "    .dataframe thead th {\n",
       "        text-align: right;\n",
       "    }\n",
       "</style>\n",
       "<table border=\"1\" class=\"dataframe\">\n",
       "  <thead>\n",
       "    <tr style=\"text-align: right;\">\n",
       "      <th></th>\n",
       "      <th>gold_label</th>\n",
       "      <th>sentence1</th>\n",
       "      <th>sentence2</th>\n",
       "      <th>label</th>\n",
       "      <th>len1</th>\n",
       "      <th>len2</th>\n",
       "      <th>len</th>\n",
       "    </tr>\n",
       "  </thead>\n",
       "  <tbody>\n",
       "    <tr>\n",
       "      <th>262262</th>\n",
       "      <td>contradiction</td>\n",
       "      <td>A person, who appears to be male, is riding a ...</td>\n",
       "      <td>The woman is flying a kite.</td>\n",
       "      <td>0</td>\n",
       "      <td>16</td>\n",
       "      <td>6</td>\n",
       "      <td>16</td>\n",
       "    </tr>\n",
       "    <tr>\n",
       "      <th>515058</th>\n",
       "      <td>contradiction</td>\n",
       "      <td>A balding man is waving for the camera as he i...</td>\n",
       "      <td>The bald man is sitting alone in a vehicle.</td>\n",
       "      <td>0</td>\n",
       "      <td>27</td>\n",
       "      <td>9</td>\n",
       "      <td>27</td>\n",
       "    </tr>\n",
       "    <tr>\n",
       "      <th>490452</th>\n",
       "      <td>entailment</td>\n",
       "      <td>Man in red shorts and white shirt kicking a so...</td>\n",
       "      <td>The man is making his leg move.</td>\n",
       "      <td>2</td>\n",
       "      <td>11</td>\n",
       "      <td>7</td>\n",
       "      <td>11</td>\n",
       "    </tr>\n",
       "    <tr>\n",
       "      <th>69211</th>\n",
       "      <td>entailment</td>\n",
       "      <td>An elderly man watches a younger man grill var...</td>\n",
       "      <td>an old man watching another man grill</td>\n",
       "      <td>2</td>\n",
       "      <td>10</td>\n",
       "      <td>7</td>\n",
       "      <td>10</td>\n",
       "    </tr>\n",
       "    <tr>\n",
       "      <th>545076</th>\n",
       "      <td>neutral</td>\n",
       "      <td>The elderly lady in the green dress walks down...</td>\n",
       "      <td>An old woman is walking to get to the grocery ...</td>\n",
       "      <td>1</td>\n",
       "      <td>18</td>\n",
       "      <td>11</td>\n",
       "      <td>18</td>\n",
       "    </tr>\n",
       "  </tbody>\n",
       "</table>\n",
       "</div>"
      ],
      "text/plain": [
       "           gold_label                                          sentence1  \\\n",
       "262262  contradiction  A person, who appears to be male, is riding a ...   \n",
       "515058  contradiction  A balding man is waving for the camera as he i...   \n",
       "490452     entailment  Man in red shorts and white shirt kicking a so...   \n",
       "69211      entailment  An elderly man watches a younger man grill var...   \n",
       "545076        neutral  The elderly lady in the green dress walks down...   \n",
       "\n",
       "                                                sentence2  label  len1  len2  \\\n",
       "262262                        The woman is flying a kite.      0    16     6   \n",
       "515058        The bald man is sitting alone in a vehicle.      0    27     9   \n",
       "490452                    The man is making his leg move.      2    11     7   \n",
       "69211               an old man watching another man grill      2    10     7   \n",
       "545076  An old woman is walking to get to the grocery ...      1    18    11   \n",
       "\n",
       "        len  \n",
       "262262   16  \n",
       "515058   27  \n",
       "490452   11  \n",
       "69211    10  \n",
       "545076   18  "
      ]
     },
     "execution_count": 37,
     "metadata": {},
     "output_type": "execute_result"
    }
   ],
   "source": [
    "df_text.head()"
   ]
  },
  {
   "cell_type": "code",
   "execution_count": 38,
   "metadata": {},
   "outputs": [
    {
     "data": {
      "text/plain": [
       "(549367, 7)"
      ]
     },
     "execution_count": 38,
     "metadata": {},
     "output_type": "execute_result"
    }
   ],
   "source": [
    "df_text.shape"
   ]
  },
  {
   "cell_type": "markdown",
   "metadata": {},
   "source": [
    "I vectorize the sentences, limiting the maximum length to the 95th percentile value + 1, 24 words."
   ]
  },
  {
   "cell_type": "code",
   "execution_count": 39,
   "metadata": {
    "id": "06tMvPxJgDHe"
   },
   "outputs": [],
   "source": [
    "vectorizer = layers.TextVectorization(max_tokens=100000,\n",
    "    output_sequence_length=24)"
   ]
  },
  {
   "cell_type": "code",
   "execution_count": 40,
   "metadata": {},
   "outputs": [
    {
     "data": {
      "text/plain": [
       "array([['A person, who appears to be male, is riding a dirt bike on a gravelly course.',\n",
       "        'The woman is flying a kite.'],\n",
       "       ['A balding man is waving for the camera as he is seated in a large vehicle with several people dressed in coats, hats and other winter clothing.',\n",
       "        'The bald man is sitting alone in a vehicle.'],\n",
       "       ['Man in red shorts and white shirt kicking a soccer ball.',\n",
       "        'The man is making his leg move.'],\n",
       "       ...,\n",
       "       ['Two guys in a mirror, one has no shirt on and the other has a black shirt and it shaving.',\n",
       "        'Two guys are showering'],\n",
       "       ['A group of workers are preparing batter for food in a restaurant of some kind.',\n",
       "        'people prepare big dinner'],\n",
       "       ['People walking on a street together.', 'nobody is walking']],\n",
       "      dtype='<U402')"
      ]
     },
     "execution_count": 40,
     "metadata": {},
     "output_type": "execute_result"
    }
   ],
   "source": [
    "train_pairs"
   ]
  },
  {
   "cell_type": "code",
   "execution_count": 41,
   "metadata": {},
   "outputs": [
    {
     "data": {
      "text/plain": [
       "array([['Two women are embracing while holding to go packages.',\n",
       "        'The sisters are hugging goodbye while holding to go packages after just eating lunch.'],\n",
       "       ['Two women are embracing while holding to go packages.',\n",
       "        'Two woman are holding packages.'],\n",
       "       ['Two women are embracing while holding to go packages.',\n",
       "        'The men are fighting outside a deli.'],\n",
       "       ...,\n",
       "       ['A young girl with blue and pink ribbons in her braids, without a top and a woman with a white t-shirt and a zebra skirt wading in a public water fountain.',\n",
       "        'People in a water fountain'],\n",
       "       ['A young girl with blue and pink ribbons in her braids, without a top and a woman with a white t-shirt and a zebra skirt wading in a public water fountain.',\n",
       "        'A young girl knits a sweater'],\n",
       "       ['A young girl with blue and pink ribbons in her braids, without a top and a woman with a white t-shirt and a zebra skirt wading in a public water fountain.',\n",
       "        'A young mother tries to grab her topless child from a water foutain before she attracts attention']],\n",
       "      dtype='<U300')"
      ]
     },
     "execution_count": 41,
     "metadata": {},
     "output_type": "execute_result"
    }
   ],
   "source": [
    "val_pairs"
   ]
  },
  {
   "cell_type": "code",
   "execution_count": 42,
   "metadata": {
    "colab": {
     "base_uri": "https://localhost:8080/"
    },
    "id": "FcSNkp2KuHBs",
    "outputId": "0888fb30-f90d-4b34-8fb4-06446cf449b4"
   },
   "outputs": [
    {
     "data": {
      "text/plain": [
       "549367"
      ]
     },
     "execution_count": 42,
     "metadata": {},
     "output_type": "execute_result"
    }
   ],
   "source": [
    "len(train_pairs)"
   ]
  },
  {
   "cell_type": "code",
   "execution_count": 43,
   "metadata": {
    "id": "Y4J-eDSBsTDX"
   },
   "outputs": [],
   "source": [
    "vectorizer.adapt(np.reshape(train_pairs,549367*2))"
   ]
  },
  {
   "cell_type": "markdown",
   "metadata": {},
   "source": [
    "Below is an example of a vectorized sentence."
   ]
  },
  {
   "cell_type": "code",
   "execution_count": 44,
   "metadata": {},
   "outputs": [
    {
     "data": {
      "text/plain": [
       "<tf.Tensor: shape=(24,), dtype=int64, numpy=\n",
       "array([    2,    41,     5,    16,     2,  2372,  2328,    18, 23761,\n",
       "           0,     0,     0,     0,     0,     0,     0,     0,     0,\n",
       "           0,     0,     0,     0,     0,     0], dtype=int64)>"
      ]
     },
     "execution_count": 44,
     "metadata": {},
     "output_type": "execute_result"
    }
   ],
   "source": [
    "vectorizer(\"A person is at a diner, ordering an omelette.\")"
   ]
  },
  {
   "cell_type": "code",
   "execution_count": 45,
   "metadata": {
    "id": "l-aRDgr8Qso5"
   },
   "outputs": [],
   "source": [
    "vocab = vectorizer.get_vocabulary()\n",
    "word_index = dict(zip(vocab, range(len(vocab))))"
   ]
  },
  {
   "cell_type": "code",
   "execution_count": 46,
   "metadata": {},
   "outputs": [
    {
     "data": {
      "text/plain": [
       "35939"
      ]
     },
     "execution_count": 46,
     "metadata": {},
     "output_type": "execute_result"
    }
   ],
   "source": [
    "len(vocab)"
   ]
  },
  {
   "cell_type": "code",
   "execution_count": 47,
   "metadata": {
    "id": "9CGavGlmSf_0"
   },
   "outputs": [],
   "source": [
    "num_tokens = len(vocab) + 1\n",
    "embedding_dim = 300"
   ]
  },
  {
   "cell_type": "markdown",
   "metadata": {},
   "source": [
    "I am using 300-dimensional glove vectors as the word embeddings. I create embeddings for all words in the vocabulary, and then construct the embedding layer to be used in training. The embedding layer will not be trained itself, so I set trainable to False."
   ]
  },
  {
   "cell_type": "code",
   "execution_count": 48,
   "metadata": {
    "colab": {
     "base_uri": "https://localhost:8080/"
    },
    "id": "qr6m4SVttIdq",
    "outputId": "42534854-0fbf-4f00-c2ea-33410a16df94"
   },
   "outputs": [
    {
     "name": "stdout",
     "output_type": "stream",
     "text": [
      "Found 400000 word vectors.\n"
     ]
    }
   ],
   "source": [
    "embeddings_index = {}\n",
    "with open('glove.6B.300d.txt',encoding=\"utf8\") as f:\n",
    "    for line in f:\n",
    "        values = line.split()\n",
    "        word = values[0]\n",
    "        coeffs = np.asarray(values[1:], dtype='float32')\n",
    "        embeddings_index[word] = coeffs\n",
    "\n",
    "print(f\"Found {len(embeddings_index)} word vectors.\")\n",
    "\n"
   ]
  },
  {
   "cell_type": "code",
   "execution_count": 49,
   "metadata": {
    "id": "LK1nCeSWQLGe"
   },
   "outputs": [],
   "source": [
    "missed_words = []\n",
    "\n",
    "embedding_matrix = np.zeros((len(word_index)+1, embedding_dim))\n",
    "for word, i in word_index.items():\n",
    "    embedding_vector = embeddings_index.get(word)\n",
    "    if embedding_vector is not None:\n",
    "        embedding_matrix[i] = embedding_vector\n",
    "    else:\n",
    "        missed_words.append(word)"
   ]
  },
  {
   "cell_type": "code",
   "execution_count": 50,
   "metadata": {},
   "outputs": [],
   "source": [
    "embedding_matrix = tf.math.l2_normalize(embedding_matrix,1).numpy()"
   ]
  },
  {
   "cell_type": "code",
   "execution_count": 51,
   "metadata": {
    "id": "9uHRCnhkzReS"
   },
   "outputs": [],
   "source": [
    "from tensorflow.keras.layers import Embedding\n",
    "\n",
    "glove_embedding_layer = Embedding(\n",
    "    num_tokens,\n",
    "    embedding_dim,\n",
    "    embeddings_initializer=tf.keras.initializers.Constant(embedding_matrix),\n",
    "    input_length=24,\n",
    "    trainable=False,\n",
    ")"
   ]
  },
  {
   "cell_type": "code",
   "execution_count": 52,
   "metadata": {},
   "outputs": [
    {
     "data": {
      "text/plain": [
       "549367"
      ]
     },
     "execution_count": 52,
     "metadata": {},
     "output_type": "execute_result"
    }
   ],
   "source": [
    "len(train_pairs)"
   ]
  },
  {
   "cell_type": "markdown",
   "metadata": {},
   "source": [
    "Finally, I construct efficient datasets for working with Tensorflow models. The batch size for training has been set to 32."
   ]
  },
  {
   "cell_type": "code",
   "execution_count": 53,
   "metadata": {},
   "outputs": [],
   "source": [
    "train_data = tf.data.Dataset.from_tensor_slices(train_pairs)\n",
    "train_labels = tf.data.Dataset.from_tensor_slices(train_labels_one_hot)\n",
    "train_dataset = tf.data.Dataset.zip((train_data,train_labels)).shuffle(len(train_pairs)).batch(32)\n",
    "#train_dataset = tf.data.Dataset.zip((train_data,train_labels)).batch(32)"
   ]
  },
  {
   "cell_type": "code",
   "execution_count": 54,
   "metadata": {},
   "outputs": [],
   "source": [
    "val_data = tf.data.Dataset.from_tensor_slices(val_pairs)\n",
    "val_labels = tf.data.Dataset.from_tensor_slices(val_labels_one_hot)\n",
    "val_dataset = tf.data.Dataset.zip((val_data,val_labels)).batch(32)"
   ]
  },
  {
   "cell_type": "code",
   "execution_count": 55,
   "metadata": {},
   "outputs": [
    {
     "data": {
      "text/plain": [
       "(<_BatchDataset element_spec=(TensorSpec(shape=(None, 2), dtype=tf.string, name=None), TensorSpec(shape=(None, 3), dtype=tf.float64, name=None))>,\n",
       " <_BatchDataset element_spec=(TensorSpec(shape=(None, 2), dtype=tf.string, name=None), TensorSpec(shape=(None, 3), dtype=tf.float64, name=None))>)"
      ]
     },
     "execution_count": 55,
     "metadata": {},
     "output_type": "execute_result"
    }
   ],
   "source": [
    "train_dataset, val_dataset"
   ]
  },
  {
   "cell_type": "markdown",
   "metadata": {},
   "source": [
    "### Section 3: Modeling"
   ]
  },
  {
   "cell_type": "markdown",
   "metadata": {
    "id": "wmn2u8zWN6x9"
   },
   "source": [
    "### Model 0 - LSTM (Baseline)"
   ]
  },
  {
   "cell_type": "code",
   "execution_count": 77,
   "metadata": {
    "id": "lKbQdX9RRnV4"
   },
   "outputs": [],
   "source": [
    "from tensorflow.keras import layers"
   ]
  },
  {
   "cell_type": "markdown",
   "metadata": {},
   "source": [
    "This baseline model is a very simple implemantation of stacked LSTM layers. LSTM layers retain sequence information relating to their inputs, and are very effective at tasks such as sentence entailment, but the later more complex models should perform better."
   ]
  },
  {
   "cell_type": "code",
   "execution_count": 93,
   "metadata": {
    "id": "QNZptNMpvAch"
   },
   "outputs": [],
   "source": [
    "class Model_0:\n",
    "    def __init__(self,train_data,val_data,lstm_layers=2):\n",
    "        \"\"\"\n",
    "        Loads in the training and validation data, and determines the number of LSTM layers.\n",
    "        \"\"\"\n",
    "        \n",
    "        self.lstm_layers=lstm_layers\n",
    "        self.train_dataset = train_data\n",
    "        self.val_dataset = val_data\n",
    "\n",
    "    def create_model(self):\n",
    "        \"\"\"\n",
    "        Creates embeddings of each sentence using the glove embedding layer, concatenates the sentences, and feeds them\n",
    "        through the stacked LSTM layers, using a final Dense layer to perform the classification.\n",
    "        \"\"\"\n",
    "        \n",
    "        input = layers.Input(shape=(2,), dtype=tf.string)\n",
    "\n",
    "        vector1 = vectorizer(input[:,0])\n",
    "        vector2 = vectorizer(input[:,1])\n",
    "\n",
    "        embedding1 = glove_embedding_layer(vector1)\n",
    "        embedding2 = glove_embedding_layer(vector2)\n",
    "\n",
    "        x = [embedding1,embedding2]\n",
    "        x = layers.Concatenate(axis=2)(x)\n",
    "        for i in range(self.lstm_layers-1):\n",
    "            x = layers.LSTM(128, return_sequences=True,recurrent_dropout=0.2)(x)\n",
    "        x = layers.LSTM(128,return_sequences=False,recurrent_dropout=0.2)(x)\n",
    "        output = layers.Dense(3, activation=\"softmax\")(x)\n",
    "        self.model = tf.keras.Model(inputs=input, outputs=output)\n",
    "\n",
    "    def compile_model(self):\n",
    "        \"\"\"\n",
    "        Compiles the model using the Adam optimizer.\n",
    "        \"\"\"\n",
    "        \n",
    "        self.model.compile(loss=\"categorical_crossentropy\",\n",
    "          optimizer=tf.keras.optimizers.Adam(),\n",
    "          metrics=[\"accuracy\"])\n",
    "\n",
    "    def show_summary(self):\n",
    "        self.model.summary()\n",
    "\n",
    "    def run_model(self,epochs=10):\n",
    "        self.history = self.model.fit(self.train_dataset,\n",
    "                              epochs=epochs,\n",
    "                              validation_data=self.val_dataset)\n",
    "\n"
   ]
  },
  {
   "cell_type": "code",
   "execution_count": 94,
   "metadata": {
    "colab": {
     "base_uri": "https://localhost:8080/"
    },
    "id": "oz4n8EhYzU4y",
    "outputId": "2168d36b-4e76-4927-811b-e9c95e612c80"
   },
   "outputs": [],
   "source": [
    "model_0 = Model_0(train_dataset,val_dataset)\n",
    "model_0.create_model()\n",
    "model_0.compile_model()"
   ]
  },
  {
   "cell_type": "markdown",
   "metadata": {},
   "source": [
    "Below is a summary showing the layers and number of parameters of my model in detail."
   ]
  },
  {
   "cell_type": "code",
   "execution_count": 95,
   "metadata": {
    "colab": {
     "base_uri": "https://localhost:8080/"
    },
    "id": "Tts6cjXDz33B",
    "outputId": "ba02ae8d-3fdb-4854-cc88-d756784f604c"
   },
   "outputs": [
    {
     "name": "stdout",
     "output_type": "stream",
     "text": [
      "Model: \"model_4\"\n",
      "__________________________________________________________________________________________________\n",
      " Layer (type)                Output Shape                 Param #   Connected to                  \n",
      "==================================================================================================\n",
      " input_5 (InputLayer)        [(None, 2)]                  0         []                            \n",
      "                                                                                                  \n",
      " tf.__operators__.getitem_8  (None,)                      0         ['input_5[0][0]']             \n",
      "  (SlicingOpLambda)                                                                               \n",
      "                                                                                                  \n",
      " tf.__operators__.getitem_9  (None,)                      0         ['input_5[0][0]']             \n",
      "  (SlicingOpLambda)                                                                               \n",
      "                                                                                                  \n",
      " text_vectorization (TextVe  (None, 24)                   0         ['tf.__operators__.getitem_8[0\n",
      " ctorization)                                                       ][0]',                        \n",
      "                                                                     'tf.__operators__.getitem_9[0\n",
      "                                                                    ][0]']                        \n",
      "                                                                                                  \n",
      " embedding_1 (Embedding)     (None, 24, 300)              1078200   ['text_vectorization[8][0]',  \n",
      "                                                          0          'text_vectorization[9][0]']  \n",
      "                                                                                                  \n",
      " concatenate_6 (Concatenate  (None, 24, 600)              0         ['embedding_1[6][0]',         \n",
      " )                                                                   'embedding_1[7][0]']         \n",
      "                                                                                                  \n",
      " lstm_10 (LSTM)              (None, 24, 128)              373248    ['concatenate_6[0][0]']       \n",
      "                                                                                                  \n",
      " lstm_11 (LSTM)              (None, 128)                  131584    ['lstm_10[0][0]']             \n",
      "                                                                                                  \n",
      " dense_5 (Dense)             (None, 3)                    387       ['lstm_11[0][0]']             \n",
      "                                                                                                  \n",
      "==================================================================================================\n",
      "Total params: 11287219 (43.06 MB)\n",
      "Trainable params: 505219 (1.93 MB)\n",
      "Non-trainable params: 10782000 (41.13 MB)\n",
      "__________________________________________________________________________________________________\n"
     ]
    }
   ],
   "source": [
    "model_0.show_summary()"
   ]
  },
  {
   "cell_type": "markdown",
   "metadata": {},
   "source": [
    "Since each epoch takes a while to run, I decided to save the model after each successive epoch, in case my runtime was interrupted. This will also allow me to compare the performance of my model over each epoch later on. I will use this framework for my other models as well."
   ]
  },
  {
   "cell_type": "code",
   "execution_count": null,
   "metadata": {},
   "outputs": [],
   "source": [
    "for i in range(10):\n",
    "    save_str = \"initial_model_\" + str(i+1)\n",
    "    model_0.run_model(1)\n",
    "    model_0.model.save(save_str)"
   ]
  },
  {
   "cell_type": "markdown",
   "metadata": {
    "id": "PipiprH1_00k"
   },
   "source": [
    "### Model 1 - Decomposable Attention"
   ]
  },
  {
   "cell_type": "code",
   "execution_count": 787,
   "metadata": {
    "id": "Tbw7alk9_svV"
   },
   "outputs": [],
   "source": [
    "class Model_1:\n",
    "    def __init__(self,train_data,val_data,dropout=0.2,intra=False):\n",
    "        \"\"\"\n",
    "        Loads in the training and validation data, sets the dropout, and initializes the Dense layers.\n",
    "        \"\"\"\n",
    "        self.train_data = train_data\n",
    "        self.val_data = val_data\n",
    "        self.dropout = dropout\n",
    "        self.intra = intra\n",
    "        self.attend_dense = layers.Dense(200,activation=\"relu\",name=\"attend_dense\")\n",
    "        if intra == False:\n",
    "            self.compare_dense = layers.Dense(200,activation=\"relu\",name=\"compare_dense\")\n",
    "        else:\n",
    "            self.compare_dense = layers.Dense(400,activation=\"relu\",name=\"compare_dense\")\n",
    "        self.intra_dense = layers.Dense(200,activation=\"relu\",name=\"intra_dense\")\n",
    "\n",
    "    def attend(self,embedding1,embedding2):\n",
    "        \"\"\"\n",
    "        Takes the embeddings for each sentence as input. Obtain the normalized attention weights for subphrases,\n",
    "        alpha and beta.\n",
    "        \"\"\"\n",
    "        x1 = embedding1\n",
    "        x2 = embedding2\n",
    "     \n",
    "        x1 = self.attend_dense(x1)\n",
    "        x1 = layers.Dropout(self.dropout)(x1)\n",
    "        x2 = self.attend_dense(x2)\n",
    "        x2 = layers.Dropout(self.dropout)(x2)\n",
    "        \n",
    "        e = tf.matmul(x1,tf.transpose(x2,perm=[0,2,1]))\n",
    "        beta = tf.matmul(layers.Softmax()(e),embedding2)\n",
    "        alpha = tf.matmul(tf.transpose(layers.Softmax()(e),perm=[0,2,1]),embedding1)\n",
    "        return ((alpha,beta))\n",
    "\n",
    "    def compare(self,embedding1,embedding2,alpha,beta):\n",
    "        \"\"\"\n",
    "        Compares the aligned subphrases generated by the attend phase, resulting in vectors v1 and v2\n",
    "        which represent nonlinear combinations of a subphrase in one sentence and its subphrase in the\n",
    "        other sentence.\n",
    "        \"\"\"\n",
    "        v1 = layers.Concatenate(axis=2)([embedding1,beta])\n",
    "        v2 = layers.Concatenate(axis=2)([embedding2,alpha])\n",
    "        v1 = self.compare_dense(v1)\n",
    "        v1 = layers.Dropout(self.dropout)(v1)\n",
    "        v2 = self.compare_dense(v2)\n",
    "        v2 = layers.Dropout(self.dropout)(v2)\n",
    "        return ((v1,v2))\n",
    "\n",
    "    def aggregate(self,v1,v2):\n",
    "        \"\"\"\n",
    "        Aggregates v1 and v2 to produce the final output for label prediction.\n",
    "        \"\"\"\n",
    "        v1_sum = tf.math.reduce_sum(v1,axis=1)\n",
    "        v2_sum = tf.math.reduce_sum(v2,axis=1)\n",
    "        y = layers.Concatenate(axis=1)([v1_sum,v2_sum])\n",
    "        y = layers.Dense(400,activation=\"relu\")(y)\n",
    "        y = layers.Dropout(self.dropout)(y)\n",
    "        return y\n",
    "\n",
    "    def intra_attention(self,embedding1,embedding2):\n",
    "        \"\"\"\n",
    "        Optional method for intra-sentence attention, not used.\n",
    "        \"\"\"\n",
    "        f1 = embedding1\n",
    "        f2 = embedding2\n",
    "        \n",
    "        f1 = self.intra_dense(f1)\n",
    "        f2 = self.intra_dense(f2)\n",
    "        \n",
    "        f1 = tf.matmul(f1,tf.transpose(f1,perm=[0,2,1]))\n",
    "        f2 = tf.matmul(f2,tf.transpose(f2,perm=[0,2,1]))\n",
    "        \n",
    "        a_intra = tf.matmul(layers.Softmax()(f1),embedding1)\n",
    "        b_intra = tf.matmul(layers.Softmax()(f2),embedding2)\n",
    "        \n",
    "        return ((a_intra,b_intra))\n",
    "    \n",
    "    def create_model(self):\n",
    "        input = layers.Input(shape=(2,), dtype=tf.string)\n",
    "\n",
    "        vector1 = vectorizer(input[:,0])\n",
    "        vector2 = vectorizer(input[:,1])\n",
    "\n",
    "        embedding1 = glove_embedding_layer(vector1)\n",
    "        embedding2 = glove_embedding_layer(vector2)\n",
    "        \n",
    "        if self.intra == True:\n",
    "            a_intra,b_intra = self.intra_attention(embedding1,embedding2)\n",
    "            embedding1 = layers.Concatenate(axis=2)([embedding1,a_intra])\n",
    "            embedding2 = layers.Concatenate(axis=2)([embedding2,b_intra])\n",
    "\n",
    "        alpha,beta = self.attend(embedding1,embedding2)\n",
    "        v1,v2 = self.compare(embedding1,embedding2,alpha,beta)\n",
    "        y = self.aggregate(v1,v2)\n",
    "        y = layers.Dense(200,activation=\"relu\")(y)\n",
    "        output = layers.Dense(3,activation=\"softmax\")(y)\n",
    "        self.model = tf.keras.Model(inputs=input,outputs=output)\n",
    "\n",
    "    def compile_model(self):\n",
    "        self.model.compile(loss=\"categorical_crossentropy\",\n",
    "          optimizer=tf.keras.optimizers.Adam(learning_rate=0.0025),\n",
    "          metrics=[\"accuracy\"])\n",
    "\n",
    "    def show_summary(self):\n",
    "        self.model.summary()\n",
    "\n",
    "    def run_model(self,epochs=20):\n",
    "        self.history = self.model.fit(self.train_data,\n",
    "                              epochs=epochs,\n",
    "                              validation_data=self.val_data)\n"
   ]
  },
  {
   "cell_type": "code",
   "execution_count": 788,
   "metadata": {
    "colab": {
     "base_uri": "https://localhost:8080/"
    },
    "id": "1GIMDiIiBuJk",
    "outputId": "ee052687-6b17-4967-86fc-51d522a48ce6"
   },
   "outputs": [],
   "source": [
    "model_1 = Model_1(train_dataset,val_dataset,dropout=0.2)\n",
    "model_1.create_model()\n",
    "model_1.compile_model()"
   ]
  },
  {
   "cell_type": "code",
   "execution_count": 789,
   "metadata": {
    "colab": {
     "base_uri": "https://localhost:8080/"
    },
    "id": "C4KKkddtB7Jj",
    "outputId": "8a48e8fe-8ea1-46f7-c5e0-02b56393ac9b"
   },
   "outputs": [
    {
     "name": "stdout",
     "output_type": "stream",
     "text": [
      "Model: \"model_113\"\n",
      "__________________________________________________________________________________________________\n",
      " Layer (type)                Output Shape                 Param #   Connected to                  \n",
      "==================================================================================================\n",
      " input_122 (InputLayer)      [(None, 2)]                  0         []                            \n",
      "                                                                                                  \n",
      " tf.__operators__.getitem_2  (None,)                      0         ['input_122[0][0]']           \n",
      " 42 (SlicingOpLambda)                                                                             \n",
      "                                                                                                  \n",
      " tf.__operators__.getitem_2  (None,)                      0         ['input_122[0][0]']           \n",
      " 43 (SlicingOpLambda)                                                                             \n",
      "                                                                                                  \n",
      " text_vectorization_3 (Text  (None, 24)                   0         ['tf.__operators__.getitem_242\n",
      " Vectorization)                                                     [0][0]',                      \n",
      "                                                                     'tf.__operators__.getitem_243\n",
      "                                                                    [0][0]']                      \n",
      "                                                                                                  \n",
      " embedding_10 (Embedding)    (None, 24, 300)              1125114   ['text_vectorization_3[0][0]',\n",
      "                                                          00         'text_vectorization_3[1][0]']\n",
      "                                                                                                  \n",
      " attend_dense (Dense)        (None, 24, 200)              60200     ['embedding_10[0][0]',        \n",
      "                                                                     'embedding_10[1][0]']        \n",
      "                                                                                                  \n",
      " dropout_697 (Dropout)       (None, 24, 200)              0         ['attend_dense[1][0]']        \n",
      "                                                                                                  \n",
      " dropout_696 (Dropout)       (None, 24, 200)              0         ['attend_dense[0][0]']        \n",
      "                                                                                                  \n",
      " tf.compat.v1.transpose_172  (None, 200, 24)              0         ['dropout_697[0][0]']         \n",
      "  (TFOpLambda)                                                                                    \n",
      "                                                                                                  \n",
      " tf.linalg.matmul_259 (TFOp  (None, 24, 24)               0         ['dropout_696[0][0]',         \n",
      " Lambda)                                                             'tf.compat.v1.transpose_172[0\n",
      "                                                                    ][0]']                        \n",
      "                                                                                                  \n",
      " softmax_173 (Softmax)       (None, 24, 24)               0         ['tf.linalg.matmul_259[0][0]']\n",
      "                                                                                                  \n",
      " softmax_172 (Softmax)       (None, 24, 24)               0         ['tf.linalg.matmul_259[0][0]']\n",
      "                                                                                                  \n",
      " tf.compat.v1.transpose_173  (None, 24, 24)               0         ['softmax_173[0][0]']         \n",
      "  (TFOpLambda)                                                                                    \n",
      "                                                                                                  \n",
      " tf.linalg.matmul_260 (TFOp  (None, 24, 300)              0         ['softmax_172[0][0]',         \n",
      " Lambda)                                                             'embedding_10[1][0]']        \n",
      "                                                                                                  \n",
      " tf.linalg.matmul_261 (TFOp  (None, 24, 300)              0         ['tf.compat.v1.transpose_173[0\n",
      " Lambda)                                                            ][0]',                        \n",
      "                                                                     'embedding_10[0][0]']        \n",
      "                                                                                                  \n",
      " concatenate_285 (Concatena  (None, 24, 600)              0         ['embedding_10[0][0]',        \n",
      " te)                                                                 'tf.linalg.matmul_260[0][0]']\n",
      "                                                                                                  \n",
      " concatenate_286 (Concatena  (None, 24, 600)              0         ['embedding_10[1][0]',        \n",
      " te)                                                                 'tf.linalg.matmul_261[0][0]']\n",
      "                                                                                                  \n",
      " compare_dense (Dense)       (None, 24, 200)              120200    ['concatenate_285[0][0]',     \n",
      "                                                                     'concatenate_286[0][0]']     \n",
      "                                                                                                  \n",
      " dropout_698 (Dropout)       (None, 24, 200)              0         ['compare_dense[0][0]']       \n",
      "                                                                                                  \n",
      " dropout_699 (Dropout)       (None, 24, 200)              0         ['compare_dense[1][0]']       \n",
      "                                                                                                  \n",
      " tf.math.reduce_sum_170 (TF  (None, 200)                  0         ['dropout_698[0][0]']         \n",
      " OpLambda)                                                                                        \n",
      "                                                                                                  \n",
      " tf.math.reduce_sum_171 (TF  (None, 200)                  0         ['dropout_699[0][0]']         \n",
      " OpLambda)                                                                                        \n",
      "                                                                                                  \n",
      " concatenate_287 (Concatena  (None, 400)                  0         ['tf.math.reduce_sum_170[0][0]\n",
      " te)                                                                ',                            \n",
      "                                                                     'tf.math.reduce_sum_171[0][0]\n",
      "                                                                    ']                            \n",
      "                                                                                                  \n",
      " dense_675 (Dense)           (None, 400)                  160400    ['concatenate_287[0][0]']     \n",
      "                                                                                                  \n",
      " dropout_700 (Dropout)       (None, 400)                  0         ['dense_675[0][0]']           \n",
      "                                                                                                  \n",
      " dense_676 (Dense)           (None, 200)                  80200     ['dropout_700[0][0]']         \n",
      "                                                                                                  \n",
      " dense_677 (Dense)           (None, 3)                    603       ['dense_676[0][0]']           \n",
      "                                                                                                  \n",
      "==================================================================================================\n",
      "Total params: 112933003 (430.81 MB)\n",
      "Trainable params: 421603 (1.61 MB)\n",
      "Non-trainable params: 112511400 (429.20 MB)\n",
      "__________________________________________________________________________________________________\n"
     ]
    }
   ],
   "source": [
    "model_1.show_summary()"
   ]
  },
  {
   "cell_type": "markdown",
   "metadata": {},
   "source": [
    "Since this model runs much faster than the others, I will run it for 20 epochs."
   ]
  },
  {
   "cell_type": "code",
   "execution_count": null,
   "metadata": {},
   "outputs": [],
   "source": [
    "for i in range(20):\n",
    "    save_str = \"attention_model_\" + str(i+1)\n",
    "    model_1.run_model(1)\n",
    "    model_1.model.save(save_str)"
   ]
  },
  {
   "cell_type": "markdown",
   "metadata": {},
   "source": [
    "### Model 2 - ESIM"
   ]
  },
  {
   "cell_type": "code",
   "execution_count": 65,
   "metadata": {},
   "outputs": [],
   "source": [
    "class Model_2:\n",
    "    def __init__(self,train_data,val_data,dropout=0.2):\n",
    "        self.train_data = train_data\n",
    "        self.val_data = val_data\n",
    "        self.dropout = dropout\n",
    "        \n",
    "    def biLSTM(self,embedding1,embedding2):\n",
    "        \"\"\"\n",
    "        A bidirectional LSTM layer to encode the initial embedding.\n",
    "        \"\"\"\n",
    "        x1 = embedding1\n",
    "        x2 = embedding2\n",
    "        x1 = layers.Bidirectional(layers.LSTM(150,return_sequences=True,recurrent_dropout=self.dropout))(x1)\n",
    "        x2 = layers.Bidirectional(layers.LSTM(150,return_sequences=True,recurrent_dropout=self.dropout))(x2)\n",
    "        return ((x1,x2))\n",
    "    \n",
    "    def local_inference(self,rep1,rep2):\n",
    "        \"\"\"\n",
    "        Performs alignment between the subcomponents of the sentences in order to achieve local inference. Returns\n",
    "     enhanced local inference information, consisting of a, b, their difference, and their product\n",
    "        \"\"\"\n",
    "        e = tf.matmul(rep1,tf.transpose(rep2,perm=[0,2,1]))\n",
    "        \n",
    "        a = tf.matmul(layers.Softmax()(e),rep2)\n",
    "        b = tf.matmul(tf.transpose(layers.Softmax()(e),perm=[0,2,1]),rep1)\n",
    "        \n",
    "        difference_1 = rep1 - a\n",
    "        difference_2 = rep2 - b\n",
    "        \n",
    "        product_1 = tf.math.multiply(rep1,a)\n",
    "        product_2 = tf.math.multiply(rep2,b)\n",
    "        \n",
    "        m_a = layers.Concatenate(axis=1)([a,difference_1,product_1])\n",
    "        m_b = layers.Concatenate(axis=1)([b,difference_2,product_2])\n",
    "        \n",
    "        return ((m_a,m_b))\n",
    "    \n",
    "    def inference_composition(self,rep1,rep2):\n",
    "        \"\"\"\n",
    "        Uses bidirectional LSTMs to compose the local inference information, and pools the information to be fed into\n",
    "        a final dense layer for the predictions to be produced.\n",
    "        \"\"\"\n",
    "        v1 = layers.Bidirectional(layers.LSTM(150,return_sequences=True,recurrent_dropout=self.dropout))(rep1)\n",
    "        v2 = layers.Bidirectional(layers.LSTM(150,return_sequences=True,recurrent_dropout=self.dropout))(rep2)\n",
    "        \n",
    "        v1_av = layers.GlobalAveragePooling1D()(v1)\n",
    "        v1_max = layers.GlobalMaxPooling1D()(v1)\n",
    "        v2_av = layers.GlobalAveragePooling1D()(v2)\n",
    "        v2_max = layers.GlobalMaxPooling1D()(v2)\n",
    "        \n",
    "        v = layers.Concatenate(axis=1)([v1_av,v1_max,v2_av,v2_max])\n",
    "        \n",
    "        return v\n",
    "        \n",
    "    def create_model(self):\n",
    "        input = layers.Input(shape=(2,), dtype=tf.string)\n",
    "\n",
    "        vector1 = vectorizer(input[:,0])\n",
    "        vector2 = vectorizer(input[:,1])\n",
    "\n",
    "        embedding1 = glove_embedding_layer(vector1)\n",
    "        embedding2 = glove_embedding_layer(vector2)\n",
    "        \n",
    "        rep1,rep2 = self.biLSTM(embedding1,embedding2)\n",
    "        \n",
    "        m1,m2 = self.local_inference(rep1,rep2)\n",
    "        \n",
    "        v = self.inference_composition(m1,m2)\n",
    "        \n",
    "        v = layers.Dense(300,activation=\"tanh\")(v)\n",
    "        v = layers.Dropout(self.dropout)(v)\n",
    "        output = layers.Dense(3,activation=\"softmax\")(v)\n",
    "        \n",
    "        self.model = tf.keras.Model(inputs=input,outputs=output)\n",
    "        \n",
    "    def compile_model(self):\n",
    "        self.model.compile(loss=\"categorical_crossentropy\",\n",
    "          optimizer=tf.keras.optimizers.Adam(learning_rate=0.0025),\n",
    "          metrics=[\"accuracy\"])\n",
    "\n",
    "    def show_summary(self):\n",
    "        self.model.summary()\n",
    "\n",
    "    def run_model(self,epochs=20):\n",
    "        self.history = self.model.fit(self.train_data,\n",
    "                              epochs=epochs,\n",
    "                              validation_data=self.val_data)\n",
    "        "
   ]
  },
  {
   "cell_type": "code",
   "execution_count": 66,
   "metadata": {},
   "outputs": [],
   "source": [
    "model_2 = Model_2(train_dataset,val_dataset,dropout=0.2)\n",
    "model_2.create_model()\n",
    "model_2.compile_model()"
   ]
  },
  {
   "cell_type": "code",
   "execution_count": 67,
   "metadata": {},
   "outputs": [
    {
     "name": "stdout",
     "output_type": "stream",
     "text": [
      "Model: \"model\"\n",
      "__________________________________________________________________________________________________\n",
      " Layer (type)                Output Shape                 Param #   Connected to                  \n",
      "==================================================================================================\n",
      " input_1 (InputLayer)        [(None, 2)]                  0         []                            \n",
      "                                                                                                  \n",
      " tf.__operators__.getitem (  (None,)                      0         ['input_1[0][0]']             \n",
      " SlicingOpLambda)                                                                                 \n",
      "                                                                                                  \n",
      " tf.__operators__.getitem_1  (None,)                      0         ['input_1[0][0]']             \n",
      "  (SlicingOpLambda)                                                                               \n",
      "                                                                                                  \n",
      " text_vectorization (TextVe  (None, 24)                   0         ['tf.__operators__.getitem[0][\n",
      " ctorization)                                                       0]',                          \n",
      "                                                                     'tf.__operators__.getitem_1[0\n",
      "                                                                    ][0]']                        \n",
      "                                                                                                  \n",
      " embedding (Embedding)       (None, 24, 300)              1078200   ['text_vectorization[0][0]',  \n",
      "                                                          0          'text_vectorization[1][0]']  \n",
      "                                                                                                  \n",
      " bidirectional_1 (Bidirecti  (None, 24, 300)              541200    ['embedding[1][0]']           \n",
      " onal)                                                                                            \n",
      "                                                                                                  \n",
      " bidirectional (Bidirection  (None, 24, 300)              541200    ['embedding[0][0]']           \n",
      " al)                                                                                              \n",
      "                                                                                                  \n",
      " tf.compat.v1.transpose (TF  (None, 300, 24)              0         ['bidirectional_1[0][0]']     \n",
      " OpLambda)                                                                                        \n",
      "                                                                                                  \n",
      " tf.linalg.matmul (TFOpLamb  (None, 24, 24)               0         ['bidirectional[0][0]',       \n",
      " da)                                                                 'tf.compat.v1.transpose[0][0]\n",
      "                                                                    ']                            \n",
      "                                                                                                  \n",
      " softmax_1 (Softmax)         (None, 24, 24)               0         ['tf.linalg.matmul[0][0]']    \n",
      "                                                                                                  \n",
      " softmax (Softmax)           (None, 24, 24)               0         ['tf.linalg.matmul[0][0]']    \n",
      "                                                                                                  \n",
      " tf.compat.v1.transpose_1 (  (None, 24, 24)               0         ['softmax_1[0][0]']           \n",
      " TFOpLambda)                                                                                      \n",
      "                                                                                                  \n",
      " tf.linalg.matmul_1 (TFOpLa  (None, 24, 300)              0         ['softmax[0][0]',             \n",
      " mbda)                                                               'bidirectional_1[0][0]']     \n",
      "                                                                                                  \n",
      " tf.linalg.matmul_2 (TFOpLa  (None, 24, 300)              0         ['tf.compat.v1.transpose_1[0][\n",
      " mbda)                                                              0]',                          \n",
      "                                                                     'bidirectional[0][0]']       \n",
      "                                                                                                  \n",
      " tf.math.subtract (TFOpLamb  (None, 24, 300)              0         ['bidirectional[0][0]',       \n",
      " da)                                                                 'tf.linalg.matmul_1[0][0]']  \n",
      "                                                                                                  \n",
      " tf.math.multiply (TFOpLamb  (None, 24, 300)              0         ['bidirectional[0][0]',       \n",
      " da)                                                                 'tf.linalg.matmul_1[0][0]']  \n",
      "                                                                                                  \n",
      " tf.math.subtract_1 (TFOpLa  (None, 24, 300)              0         ['bidirectional_1[0][0]',     \n",
      " mbda)                                                               'tf.linalg.matmul_2[0][0]']  \n",
      "                                                                                                  \n",
      " tf.math.multiply_1 (TFOpLa  (None, 24, 300)              0         ['bidirectional_1[0][0]',     \n",
      " mbda)                                                               'tf.linalg.matmul_2[0][0]']  \n",
      "                                                                                                  \n",
      " concatenate (Concatenate)   (None, 72, 300)              0         ['tf.linalg.matmul_1[0][0]',  \n",
      "                                                                     'tf.math.subtract[0][0]',    \n",
      "                                                                     'tf.math.multiply[0][0]']    \n",
      "                                                                                                  \n",
      " concatenate_1 (Concatenate  (None, 72, 300)              0         ['tf.linalg.matmul_2[0][0]',  \n",
      " )                                                                   'tf.math.subtract_1[0][0]',  \n",
      "                                                                     'tf.math.multiply_1[0][0]']  \n",
      "                                                                                                  \n",
      " bidirectional_2 (Bidirecti  (None, 72, 300)              541200    ['concatenate[0][0]']         \n",
      " onal)                                                                                            \n",
      "                                                                                                  \n",
      " bidirectional_3 (Bidirecti  (None, 72, 300)              541200    ['concatenate_1[0][0]']       \n",
      " onal)                                                                                            \n",
      "                                                                                                  \n",
      " global_average_pooling1d (  (None, 300)                  0         ['bidirectional_2[0][0]']     \n",
      " GlobalAveragePooling1D)                                                                          \n",
      "                                                                                                  \n",
      " global_max_pooling1d (Glob  (None, 300)                  0         ['bidirectional_2[0][0]']     \n",
      " alMaxPooling1D)                                                                                  \n",
      "                                                                                                  \n",
      " global_average_pooling1d_1  (None, 300)                  0         ['bidirectional_3[0][0]']     \n",
      "  (GlobalAveragePooling1D)                                                                        \n",
      "                                                                                                  \n",
      " global_max_pooling1d_1 (Gl  (None, 300)                  0         ['bidirectional_3[0][0]']     \n",
      " obalMaxPooling1D)                                                                                \n"
     ]
    },
    {
     "name": "stdout",
     "output_type": "stream",
     "text": [
      "                                                                                                  \n",
      " concatenate_2 (Concatenate  (None, 1200)                 0         ['global_average_pooling1d[0][\n",
      " )                                                                  0]',                          \n",
      "                                                                     'global_max_pooling1d[0][0]',\n",
      "                                                                     'global_average_pooling1d_1[0\n",
      "                                                                    ][0]',                        \n",
      "                                                                     'global_max_pooling1d_1[0][0]\n",
      "                                                                    ']                            \n",
      "                                                                                                  \n",
      " dense (Dense)               (None, 300)                  360300    ['concatenate_2[0][0]']       \n",
      "                                                                                                  \n",
      " dropout (Dropout)           (None, 300)                  0         ['dense[0][0]']               \n",
      "                                                                                                  \n",
      " dense_1 (Dense)             (None, 3)                    903       ['dropout[0][0]']             \n",
      "                                                                                                  \n",
      "==================================================================================================\n",
      "Total params: 13308003 (50.77 MB)\n",
      "Trainable params: 2526003 (9.64 MB)\n",
      "Non-trainable params: 10782000 (41.13 MB)\n",
      "__________________________________________________________________________________________________\n"
     ]
    }
   ],
   "source": [
    "model_2.model.summary()"
   ]
  },
  {
   "cell_type": "code",
   "execution_count": null,
   "metadata": {},
   "outputs": [],
   "source": [
    "for i in range(10):\n",
    "    save_str = \"esim_model_\" + str(i+1)\n",
    "    model_2.run_model(1)\n",
    "    model_2.model.save(save_str)"
   ]
  },
  {
   "cell_type": "markdown",
   "metadata": {},
   "source": [
    "### Section 4: Results and Conclusion"
   ]
  },
  {
   "cell_type": "markdown",
   "metadata": {},
   "source": [
    "Now it's time to choose the best performing epoch for each model, and test the models on the test dataset."
   ]
  },
  {
   "cell_type": "markdown",
   "metadata": {},
   "source": [
    "First, I load the test dataset and convert it to a suitable format, as with the train and validation sets."
   ]
  },
  {
   "cell_type": "code",
   "execution_count": 5,
   "metadata": {},
   "outputs": [],
   "source": [
    "with open('snli_1.0/snli_1.0/snli_1.0_test.jsonl') as data:\n",
    "  lines = data.read().splitlines()\n",
    "  line_dicts = [json.loads(line) for line in lines]\n",
    "  df_test = pd.DataFrame(line_dicts)"
   ]
  },
  {
   "cell_type": "code",
   "execution_count": 6,
   "metadata": {},
   "outputs": [
    {
     "data": {
      "text/html": [
       "<div>\n",
       "<style scoped>\n",
       "    .dataframe tbody tr th:only-of-type {\n",
       "        vertical-align: middle;\n",
       "    }\n",
       "\n",
       "    .dataframe tbody tr th {\n",
       "        vertical-align: top;\n",
       "    }\n",
       "\n",
       "    .dataframe thead th {\n",
       "        text-align: right;\n",
       "    }\n",
       "</style>\n",
       "<table border=\"1\" class=\"dataframe\">\n",
       "  <thead>\n",
       "    <tr style=\"text-align: right;\">\n",
       "      <th></th>\n",
       "      <th>annotator_labels</th>\n",
       "      <th>captionID</th>\n",
       "      <th>gold_label</th>\n",
       "      <th>pairID</th>\n",
       "      <th>sentence1</th>\n",
       "      <th>sentence1_binary_parse</th>\n",
       "      <th>sentence1_parse</th>\n",
       "      <th>sentence2</th>\n",
       "      <th>sentence2_binary_parse</th>\n",
       "      <th>sentence2_parse</th>\n",
       "    </tr>\n",
       "  </thead>\n",
       "  <tbody>\n",
       "    <tr>\n",
       "      <th>0</th>\n",
       "      <td>[neutral, contradiction, contradiction, neutra...</td>\n",
       "      <td>2677109430.jpg#1</td>\n",
       "      <td>neutral</td>\n",
       "      <td>2677109430.jpg#1r1n</td>\n",
       "      <td>This church choir sings to the masses as they ...</td>\n",
       "      <td>( ( This ( church choir ) ) ( ( ( sings ( to (...</td>\n",
       "      <td>(ROOT (S (NP (DT This) (NN church) (NN choir))...</td>\n",
       "      <td>The church has cracks in the ceiling.</td>\n",
       "      <td>( ( The church ) ( ( has ( cracks ( in ( the c...</td>\n",
       "      <td>(ROOT (S (NP (DT The) (NN church)) (VP (VBZ ha...</td>\n",
       "    </tr>\n",
       "    <tr>\n",
       "      <th>1</th>\n",
       "      <td>[entailment, entailment, entailment, neutral, ...</td>\n",
       "      <td>2677109430.jpg#1</td>\n",
       "      <td>entailment</td>\n",
       "      <td>2677109430.jpg#1r1e</td>\n",
       "      <td>This church choir sings to the masses as they ...</td>\n",
       "      <td>( ( This ( church choir ) ) ( ( ( sings ( to (...</td>\n",
       "      <td>(ROOT (S (NP (DT This) (NN church) (NN choir))...</td>\n",
       "      <td>The church is filled with song.</td>\n",
       "      <td>( ( The church ) ( ( is ( filled ( with song )...</td>\n",
       "      <td>(ROOT (S (NP (DT The) (NN church)) (VP (VBZ is...</td>\n",
       "    </tr>\n",
       "    <tr>\n",
       "      <th>2</th>\n",
       "      <td>[contradiction, contradiction, contradiction, ...</td>\n",
       "      <td>2677109430.jpg#1</td>\n",
       "      <td>contradiction</td>\n",
       "      <td>2677109430.jpg#1r1c</td>\n",
       "      <td>This church choir sings to the masses as they ...</td>\n",
       "      <td>( ( This ( church choir ) ) ( ( ( sings ( to (...</td>\n",
       "      <td>(ROOT (S (NP (DT This) (NN church) (NN choir))...</td>\n",
       "      <td>A choir singing at a baseball game.</td>\n",
       "      <td>( ( ( A choir ) ( singing ( at ( a ( baseball ...</td>\n",
       "      <td>(ROOT (NP (NP (DT A) (NN choir)) (VP (VBG sing...</td>\n",
       "    </tr>\n",
       "    <tr>\n",
       "      <th>3</th>\n",
       "      <td>[neutral, neutral, neutral, neutral, neutral]</td>\n",
       "      <td>6160193920.jpg#4</td>\n",
       "      <td>neutral</td>\n",
       "      <td>6160193920.jpg#4r1n</td>\n",
       "      <td>A woman with a green headscarf, blue shirt and...</td>\n",
       "      <td>( ( ( A woman ) ( with ( ( ( ( ( a ( green hea...</td>\n",
       "      <td>(ROOT (NP (NP (DT A) (NN woman)) (PP (IN with)...</td>\n",
       "      <td>The woman is young.</td>\n",
       "      <td>( ( The woman ) ( ( is young ) . ) )</td>\n",
       "      <td>(ROOT (S (NP (DT The) (NN woman)) (VP (VBZ is)...</td>\n",
       "    </tr>\n",
       "    <tr>\n",
       "      <th>4</th>\n",
       "      <td>[entailment, entailment, contradiction, entail...</td>\n",
       "      <td>6160193920.jpg#4</td>\n",
       "      <td>entailment</td>\n",
       "      <td>6160193920.jpg#4r1e</td>\n",
       "      <td>A woman with a green headscarf, blue shirt and...</td>\n",
       "      <td>( ( ( A woman ) ( with ( ( ( ( ( a ( green hea...</td>\n",
       "      <td>(ROOT (NP (NP (DT A) (NN woman)) (PP (IN with)...</td>\n",
       "      <td>The woman is very happy.</td>\n",
       "      <td>( ( The woman ) ( ( is ( very happy ) ) . ) )</td>\n",
       "      <td>(ROOT (S (NP (DT The) (NN woman)) (VP (VBZ is)...</td>\n",
       "    </tr>\n",
       "  </tbody>\n",
       "</table>\n",
       "</div>"
      ],
      "text/plain": [
       "                                    annotator_labels         captionID  \\\n",
       "0  [neutral, contradiction, contradiction, neutra...  2677109430.jpg#1   \n",
       "1  [entailment, entailment, entailment, neutral, ...  2677109430.jpg#1   \n",
       "2  [contradiction, contradiction, contradiction, ...  2677109430.jpg#1   \n",
       "3      [neutral, neutral, neutral, neutral, neutral]  6160193920.jpg#4   \n",
       "4  [entailment, entailment, contradiction, entail...  6160193920.jpg#4   \n",
       "\n",
       "      gold_label               pairID  \\\n",
       "0        neutral  2677109430.jpg#1r1n   \n",
       "1     entailment  2677109430.jpg#1r1e   \n",
       "2  contradiction  2677109430.jpg#1r1c   \n",
       "3        neutral  6160193920.jpg#4r1n   \n",
       "4     entailment  6160193920.jpg#4r1e   \n",
       "\n",
       "                                           sentence1  \\\n",
       "0  This church choir sings to the masses as they ...   \n",
       "1  This church choir sings to the masses as they ...   \n",
       "2  This church choir sings to the masses as they ...   \n",
       "3  A woman with a green headscarf, blue shirt and...   \n",
       "4  A woman with a green headscarf, blue shirt and...   \n",
       "\n",
       "                              sentence1_binary_parse  \\\n",
       "0  ( ( This ( church choir ) ) ( ( ( sings ( to (...   \n",
       "1  ( ( This ( church choir ) ) ( ( ( sings ( to (...   \n",
       "2  ( ( This ( church choir ) ) ( ( ( sings ( to (...   \n",
       "3  ( ( ( A woman ) ( with ( ( ( ( ( a ( green hea...   \n",
       "4  ( ( ( A woman ) ( with ( ( ( ( ( a ( green hea...   \n",
       "\n",
       "                                     sentence1_parse  \\\n",
       "0  (ROOT (S (NP (DT This) (NN church) (NN choir))...   \n",
       "1  (ROOT (S (NP (DT This) (NN church) (NN choir))...   \n",
       "2  (ROOT (S (NP (DT This) (NN church) (NN choir))...   \n",
       "3  (ROOT (NP (NP (DT A) (NN woman)) (PP (IN with)...   \n",
       "4  (ROOT (NP (NP (DT A) (NN woman)) (PP (IN with)...   \n",
       "\n",
       "                               sentence2  \\\n",
       "0  The church has cracks in the ceiling.   \n",
       "1        The church is filled with song.   \n",
       "2    A choir singing at a baseball game.   \n",
       "3                    The woman is young.   \n",
       "4               The woman is very happy.   \n",
       "\n",
       "                              sentence2_binary_parse  \\\n",
       "0  ( ( The church ) ( ( has ( cracks ( in ( the c...   \n",
       "1  ( ( The church ) ( ( is ( filled ( with song )...   \n",
       "2  ( ( ( A choir ) ( singing ( at ( a ( baseball ...   \n",
       "3               ( ( The woman ) ( ( is young ) . ) )   \n",
       "4      ( ( The woman ) ( ( is ( very happy ) ) . ) )   \n",
       "\n",
       "                                     sentence2_parse  \n",
       "0  (ROOT (S (NP (DT The) (NN church)) (VP (VBZ ha...  \n",
       "1  (ROOT (S (NP (DT The) (NN church)) (VP (VBZ is...  \n",
       "2  (ROOT (NP (NP (DT A) (NN choir)) (VP (VBG sing...  \n",
       "3  (ROOT (S (NP (DT The) (NN woman)) (VP (VBZ is)...  \n",
       "4  (ROOT (S (NP (DT The) (NN woman)) (VP (VBZ is)...  "
      ]
     },
     "execution_count": 6,
     "metadata": {},
     "output_type": "execute_result"
    }
   ],
   "source": [
    "df_test.head()"
   ]
  },
  {
   "cell_type": "code",
   "execution_count": 7,
   "metadata": {},
   "outputs": [
    {
     "data": {
      "text/plain": [
       "(10000, 10)"
      ]
     },
     "execution_count": 7,
     "metadata": {},
     "output_type": "execute_result"
    }
   ],
   "source": [
    "df_test.shape"
   ]
  },
  {
   "cell_type": "code",
   "execution_count": 8,
   "metadata": {},
   "outputs": [
    {
     "data": {
      "text/plain": [
       "entailment       3368\n",
       "contradiction    3237\n",
       "neutral          3219\n",
       "-                 176\n",
       "Name: gold_label, dtype: int64"
      ]
     },
     "execution_count": 8,
     "metadata": {},
     "output_type": "execute_result"
    }
   ],
   "source": [
    "df_test['gold_label'].value_counts()"
   ]
  },
  {
   "cell_type": "code",
   "execution_count": 9,
   "metadata": {},
   "outputs": [],
   "source": [
    "df_test = df_test[df_test['gold_label'] != '-']"
   ]
  },
  {
   "cell_type": "code",
   "execution_count": 10,
   "metadata": {},
   "outputs": [],
   "source": [
    "df_test['label'] = df_test['gold_label'].apply(lambda x: 2 if x==\"entailment\" else 1 if x==\"neutral\" else 0)"
   ]
  },
  {
   "cell_type": "code",
   "execution_count": 11,
   "metadata": {},
   "outputs": [],
   "source": [
    "from sklearn.preprocessing import OneHotEncoder\n",
    "onehot = OneHotEncoder(sparse_output=False)"
   ]
  },
  {
   "cell_type": "code",
   "execution_count": 12,
   "metadata": {},
   "outputs": [],
   "source": [
    "test_pairs = df_test[['sentence1','sentence2']].to_numpy().astype('str')\n",
    "test_labels_one_hot = onehot.fit_transform(df_test['label'].to_numpy().reshape(-1,1))"
   ]
  },
  {
   "cell_type": "code",
   "execution_count": 13,
   "metadata": {},
   "outputs": [],
   "source": [
    "test_data = tf.data.Dataset.from_tensor_slices(test_pairs)\n",
    "test_labels = tf.data.Dataset.from_tensor_slices(test_labels_one_hot)\n",
    "test_dataset = tf.data.Dataset.zip((test_data,test_labels)).batch(32)"
   ]
  },
  {
   "cell_type": "markdown",
   "metadata": {},
   "source": [
    "Below, I have written a function to plot the accuracy and loss curves of each epoch for the three different models."
   ]
  },
  {
   "cell_type": "code",
   "execution_count": 114,
   "metadata": {},
   "outputs": [],
   "source": [
    "import matplotlib.pyplot as plt"
   ]
  },
  {
   "cell_type": "code",
   "execution_count": 122,
   "metadata": {},
   "outputs": [],
   "source": [
    "def model_history(model_string,total_epochs):\n",
    "    epochs = []\n",
    "    losses = []\n",
    "    accuracies = []\n",
    "    for i in range(1,total_epochs+1):\n",
    "        s = model_string + '_' + str(i)\n",
    "        model = tf.keras.models.load_model(s)\n",
    "        loss,accuracy = model.evaluate(val_dataset)\n",
    "        epochs.append(i)\n",
    "        losses.append(loss)\n",
    "        accuracies.append(accuracy)\n",
    "        \n",
    "    plt.plot(epochs, losses, label='val_loss')\n",
    "    plt.title('Loss')\n",
    "    plt.xlabel('Epochs')\n",
    "    plt.legend()\n",
    "\n",
    "    plt.figure()\n",
    "    plt.plot(epochs, accuracies, label='val_accuracy')\n",
    "    plt.title('Accuracy')\n",
    "    plt.xlabel('Epochs')\n",
    "    plt.legend()"
   ]
  },
  {
   "cell_type": "code",
   "execution_count": 123,
   "metadata": {},
   "outputs": [],
   "source": [
    "str0 = \"initial_model\"\n",
    "str1 = \"attention_model\"\n",
    "str2 = \"esim_model\""
   ]
  },
  {
   "cell_type": "code",
   "execution_count": 124,
   "metadata": {},
   "outputs": [
    {
     "name": "stdout",
     "output_type": "stream",
     "text": [
      "308/308 [==============================] - 66s 210ms/step - loss: 0.6910 - accuracy: 0.7081\n",
      "308/308 [==============================] - 85s 269ms/step - loss: 0.6090 - accuracy: 0.7506\n",
      "308/308 [==============================] - 101s 322ms/step - loss: 0.5700 - accuracy: 0.7680\n",
      "308/308 [==============================] - 106s 340ms/step - loss: 0.5505 - accuracy: 0.7792\n",
      "308/308 [==============================] - 106s 341ms/step - loss: 0.5399 - accuracy: 0.7801\n",
      "308/308 [==============================] - 147s 474ms/step - loss: 0.5283 - accuracy: 0.7901\n",
      "308/308 [==============================] - 153s 493ms/step - loss: 0.5279 - accuracy: 0.7905\n",
      "308/308 [==============================] - 127s 408ms/step - loss: 0.5262 - accuracy: 0.7954\n",
      "308/308 [==============================] - 83s 267ms/step - loss: 0.5259 - accuracy: 0.7950\n",
      "308/308 [==============================] - 91s 292ms/step - loss: 0.5397 - accuracy: 0.7941\n"
     ]
    },
    {
     "data": {
      "image/png": "[encoded data removed]",
      "text/plain": [
       "<Figure size 640x480 with 1 Axes>"
      ]
     },
     "metadata": {},
     "output_type": "display_data"
    },
    {
     "data": {
      "image/png": "[encoded data removed]",
      "text/plain": [
       "<Figure size 640x480 with 1 Axes>"
      ]
     },
     "metadata": {},
     "output_type": "display_data"
    }
   ],
   "source": [
    "model_history(str0,10)"
   ]
  },
  {
   "cell_type": "markdown",
   "metadata": {},
   "source": [
    "Based on the graph above, the ideal epoch to select for model 0 is epoch 8."
   ]
  },
  {
   "cell_type": "code",
   "execution_count": 125,
   "metadata": {},
   "outputs": [
    {
     "name": "stdout",
     "output_type": "stream",
     "text": [
      "308/308 [==============================] - 15s 46ms/step - loss: 0.5250 - accuracy: 0.7924\n",
      "308/308 [==============================] - 15s 48ms/step - loss: 0.5044 - accuracy: 0.8018\n",
      "308/308 [==============================] - 27s 85ms/step - loss: 0.5187 - accuracy: 0.8010\n",
      "308/308 [==============================] - 24s 76ms/step - loss: 0.4996 - accuracy: 0.8103\n",
      "308/308 [==============================] - 22s 68ms/step - loss: 0.4890 - accuracy: 0.8142\n",
      "308/308 [==============================] - 20s 63ms/step - loss: 0.4707 - accuracy: 0.8165\n",
      "308/308 [==============================] - 23s 73ms/step - loss: 0.4870 - accuracy: 0.8141\n",
      "308/308 [==============================] - 24s 74ms/step - loss: 0.4749 - accuracy: 0.8140\n",
      "308/308 [==============================] - 30s 93ms/step - loss: 0.4679 - accuracy: 0.8206\n",
      "308/308 [==============================] - 27s 86ms/step - loss: 0.4745 - accuracy: 0.8209\n",
      "308/308 [==============================] - 29s 91ms/step - loss: 0.4902 - accuracy: 0.8153\n",
      "308/308 [==============================] - 26s 82ms/step - loss: 0.4659 - accuracy: 0.8264\n",
      "308/308 [==============================] - 28s 88ms/step - loss: 0.4664 - accuracy: 0.8226\n",
      "308/308 [==============================] - 29s 92ms/step - loss: 0.4732 - accuracy: 0.8174\n",
      "308/308 [==============================] - 31s 98ms/step - loss: 0.4719 - accuracy: 0.8199\n",
      "308/308 [==============================] - 31s 96ms/step - loss: 0.4771 - accuracy: 0.8175\n",
      "308/308 [==============================] - 32s 101ms/step - loss: 0.4708 - accuracy: 0.8186\n",
      "308/308 [==============================] - 30s 95ms/step - loss: 0.4824 - accuracy: 0.8125\n",
      "308/308 [==============================] - 28s 90ms/step - loss: 0.4892 - accuracy: 0.8141\n",
      "308/308 [==============================] - 29s 90ms/step - loss: 0.4811 - accuracy: 0.8112\n"
     ]
    },
    {
     "data": {
      "image/png": "[encoded data removed]",
      "text/plain": [
       "<Figure size 640x480 with 1 Axes>"
      ]
     },
     "metadata": {},
     "output_type": "display_data"
    },
    {
     "data": {
      "image/png": "[encoded data removed]",
      "text/plain": [
       "<Figure size 640x480 with 1 Axes>"
      ]
     },
     "metadata": {},
     "output_type": "display_data"
    }
   ],
   "source": [
    "model_history(str1,20)"
   ]
  },
  {
   "cell_type": "markdown",
   "metadata": {},
   "source": [
    "For model 1, the best epoch is 12."
   ]
  },
  {
   "cell_type": "code",
   "execution_count": 126,
   "metadata": {},
   "outputs": [
    {
     "name": "stdout",
     "output_type": "stream",
     "text": [
      "308/308 [==============================] - 864s 3s/step - loss: 0.4939 - accuracy: 0.8071\n",
      "308/308 [==============================] - 897s 3s/step - loss: 0.4615 - accuracy: 0.8230\n",
      "308/308 [==============================] - 964s 3s/step - loss: 0.4610 - accuracy: 0.8286\n",
      "308/308 [==============================] - 1273s 4s/step - loss: 0.4593 - accuracy: 0.8301\n",
      "308/308 [==============================] - 1940s 6s/step - loss: 0.4568 - accuracy: 0.8292\n",
      "308/308 [==============================] - 1477s 5s/step - loss: 0.4726 - accuracy: 0.8267\n",
      "308/308 [==============================] - 1521s 5s/step - loss: 0.4469 - accuracy: 0.8330\n",
      "308/308 [==============================] - 2226s 7s/step - loss: 0.4361 - accuracy: 0.8391\n",
      "308/308 [==============================] - 1723s 6s/step - loss: 0.4492 - accuracy: 0.8362\n",
      "308/308 [==============================] - 2689s 9s/step - loss: 0.4741 - accuracy: 0.8236\n"
     ]
    },
    {
     "data": {
      "image/png": "[encoded data removed]",
      "text/plain": [
       "<Figure size 640x480 with 1 Axes>"
      ]
     },
     "metadata": {},
     "output_type": "display_data"
    },
    {
     "data": {
      "image/png": "[encoded data removed]",
      "text/plain": [
       "<Figure size 640x480 with 1 Axes>"
      ]
     },
     "metadata": {},
     "output_type": "display_data"
    }
   ],
   "source": [
    "model_history(str2,10)"
   ]
  },
  {
   "cell_type": "markdown",
   "metadata": {},
   "source": [
    "For model 2, the best epoch is 8."
   ]
  },
  {
   "cell_type": "markdown",
   "metadata": {},
   "source": [
    "Now it's time to test the selected models on the test data."
   ]
  },
  {
   "cell_type": "code",
   "execution_count": 14,
   "metadata": {},
   "outputs": [],
   "source": [
    "model_0 = tf.keras.models.load_model(\"initial_model_8\")\n",
    "model_1 = tf.keras.models.load_model(\"attention_model_12\")\n",
    "model_2 = tf.keras.models.load_model(\"esim_model_8\")"
   ]
  },
  {
   "cell_type": "code",
   "execution_count": 15,
   "metadata": {},
   "outputs": [
    {
     "name": "stdout",
     "output_type": "stream",
     "text": [
      "307/307 [==============================] - 12s 37ms/step - loss: 0.5302 - accuracy: 0.7913\n"
     ]
    },
    {
     "data": {
      "text/plain": [
       "[0.5301810503005981, 0.7913273572921753]"
      ]
     },
     "execution_count": 15,
     "metadata": {},
     "output_type": "execute_result"
    }
   ],
   "source": [
    "model_0.evaluate(test_dataset)"
   ]
  },
  {
   "cell_type": "code",
   "execution_count": 16,
   "metadata": {},
   "outputs": [
    {
     "name": "stdout",
     "output_type": "stream",
     "text": [
      "307/307 [==============================] - 3s 10ms/step - loss: 0.4739 - accuracy: 0.8201\n"
     ]
    },
    {
     "data": {
      "text/plain": [
       "[0.47392427921295166, 0.8201343417167664]"
      ]
     },
     "execution_count": 16,
     "metadata": {},
     "output_type": "execute_result"
    }
   ],
   "source": [
    "model_1.evaluate(test_dataset)"
   ]
  },
  {
   "cell_type": "code",
   "execution_count": 17,
   "metadata": {},
   "outputs": [
    {
     "name": "stdout",
     "output_type": "stream",
     "text": [
      "307/307 [==============================] - 155s 495ms/step - loss: 0.4492 - accuracy: 0.8270\n"
     ]
    },
    {
     "data": {
      "text/plain": [
       "[0.4492034316062927, 0.8269544243812561]"
      ]
     },
     "execution_count": 17,
     "metadata": {},
     "output_type": "execute_result"
    }
   ],
   "source": [
    "model_2.evaluate(test_dataset)"
   ]
  },
  {
   "cell_type": "markdown",
   "metadata": {},
   "source": [
    "As expected, the ESIM model exhibits the best performance."
   ]
  },
  {
   "cell_type": "markdown",
   "metadata": {},
   "source": [
    "Finally, I will examine a few examples of sentences where different models succeeded and failed to output the correct prediction."
   ]
  },
  {
   "cell_type": "code",
   "execution_count": 59,
   "metadata": {},
   "outputs": [
    {
     "data": {
      "text/html": [
       "<div>\n",
       "<style scoped>\n",
       "    .dataframe tbody tr th:only-of-type {\n",
       "        vertical-align: middle;\n",
       "    }\n",
       "\n",
       "    .dataframe tbody tr th {\n",
       "        vertical-align: top;\n",
       "    }\n",
       "\n",
       "    .dataframe thead th {\n",
       "        text-align: right;\n",
       "    }\n",
       "</style>\n",
       "<table border=\"1\" class=\"dataframe\">\n",
       "  <thead>\n",
       "    <tr style=\"text-align: right;\">\n",
       "      <th></th>\n",
       "      <th>annotator_labels</th>\n",
       "      <th>captionID</th>\n",
       "      <th>gold_label</th>\n",
       "      <th>pairID</th>\n",
       "      <th>sentence1</th>\n",
       "      <th>sentence1_binary_parse</th>\n",
       "      <th>sentence1_parse</th>\n",
       "      <th>sentence2</th>\n",
       "      <th>sentence2_binary_parse</th>\n",
       "      <th>sentence2_parse</th>\n",
       "    </tr>\n",
       "  </thead>\n",
       "  <tbody>\n",
       "    <tr>\n",
       "      <th>0</th>\n",
       "      <td>[neutral, contradiction, contradiction, neutra...</td>\n",
       "      <td>2677109430.jpg#1</td>\n",
       "      <td>neutral</td>\n",
       "      <td>2677109430.jpg#1r1n</td>\n",
       "      <td>This church choir sings to the masses as they ...</td>\n",
       "      <td>( ( This ( church choir ) ) ( ( ( sings ( to (...</td>\n",
       "      <td>(ROOT (S (NP (DT This) (NN church) (NN choir))...</td>\n",
       "      <td>The church has cracks in the ceiling.</td>\n",
       "      <td>( ( The church ) ( ( has ( cracks ( in ( the c...</td>\n",
       "      <td>(ROOT (S (NP (DT The) (NN church)) (VP (VBZ ha...</td>\n",
       "    </tr>\n",
       "    <tr>\n",
       "      <th>1</th>\n",
       "      <td>[entailment, entailment, entailment, neutral, ...</td>\n",
       "      <td>2677109430.jpg#1</td>\n",
       "      <td>entailment</td>\n",
       "      <td>2677109430.jpg#1r1e</td>\n",
       "      <td>This church choir sings to the masses as they ...</td>\n",
       "      <td>( ( This ( church choir ) ) ( ( ( sings ( to (...</td>\n",
       "      <td>(ROOT (S (NP (DT This) (NN church) (NN choir))...</td>\n",
       "      <td>The church is filled with song.</td>\n",
       "      <td>( ( The church ) ( ( is ( filled ( with song )...</td>\n",
       "      <td>(ROOT (S (NP (DT The) (NN church)) (VP (VBZ is...</td>\n",
       "    </tr>\n",
       "    <tr>\n",
       "      <th>2</th>\n",
       "      <td>[contradiction, contradiction, contradiction, ...</td>\n",
       "      <td>2677109430.jpg#1</td>\n",
       "      <td>contradiction</td>\n",
       "      <td>2677109430.jpg#1r1c</td>\n",
       "      <td>This church choir sings to the masses as they ...</td>\n",
       "      <td>( ( This ( church choir ) ) ( ( ( sings ( to (...</td>\n",
       "      <td>(ROOT (S (NP (DT This) (NN church) (NN choir))...</td>\n",
       "      <td>A choir singing at a baseball game.</td>\n",
       "      <td>( ( ( A choir ) ( singing ( at ( a ( baseball ...</td>\n",
       "      <td>(ROOT (NP (NP (DT A) (NN choir)) (VP (VBG sing...</td>\n",
       "    </tr>\n",
       "    <tr>\n",
       "      <th>3</th>\n",
       "      <td>[neutral, neutral, neutral, neutral, neutral]</td>\n",
       "      <td>6160193920.jpg#4</td>\n",
       "      <td>neutral</td>\n",
       "      <td>6160193920.jpg#4r1n</td>\n",
       "      <td>A woman with a green headscarf, blue shirt and...</td>\n",
       "      <td>( ( ( A woman ) ( with ( ( ( ( ( a ( green hea...</td>\n",
       "      <td>(ROOT (NP (NP (DT A) (NN woman)) (PP (IN with)...</td>\n",
       "      <td>The woman is young.</td>\n",
       "      <td>( ( The woman ) ( ( is young ) . ) )</td>\n",
       "      <td>(ROOT (S (NP (DT The) (NN woman)) (VP (VBZ is)...</td>\n",
       "    </tr>\n",
       "    <tr>\n",
       "      <th>4</th>\n",
       "      <td>[entailment, entailment, contradiction, entail...</td>\n",
       "      <td>6160193920.jpg#4</td>\n",
       "      <td>entailment</td>\n",
       "      <td>6160193920.jpg#4r1e</td>\n",
       "      <td>A woman with a green headscarf, blue shirt and...</td>\n",
       "      <td>( ( ( A woman ) ( with ( ( ( ( ( a ( green hea...</td>\n",
       "      <td>(ROOT (NP (NP (DT A) (NN woman)) (PP (IN with)...</td>\n",
       "      <td>The woman is very happy.</td>\n",
       "      <td>( ( The woman ) ( ( is ( very happy ) ) . ) )</td>\n",
       "      <td>(ROOT (S (NP (DT The) (NN woman)) (VP (VBZ is)...</td>\n",
       "    </tr>\n",
       "  </tbody>\n",
       "</table>\n",
       "</div>"
      ],
      "text/plain": [
       "                                    annotator_labels         captionID  \\\n",
       "0  [neutral, contradiction, contradiction, neutra...  2677109430.jpg#1   \n",
       "1  [entailment, entailment, entailment, neutral, ...  2677109430.jpg#1   \n",
       "2  [contradiction, contradiction, contradiction, ...  2677109430.jpg#1   \n",
       "3      [neutral, neutral, neutral, neutral, neutral]  6160193920.jpg#4   \n",
       "4  [entailment, entailment, contradiction, entail...  6160193920.jpg#4   \n",
       "\n",
       "      gold_label               pairID  \\\n",
       "0        neutral  2677109430.jpg#1r1n   \n",
       "1     entailment  2677109430.jpg#1r1e   \n",
       "2  contradiction  2677109430.jpg#1r1c   \n",
       "3        neutral  6160193920.jpg#4r1n   \n",
       "4     entailment  6160193920.jpg#4r1e   \n",
       "\n",
       "                                           sentence1  \\\n",
       "0  This church choir sings to the masses as they ...   \n",
       "1  This church choir sings to the masses as they ...   \n",
       "2  This church choir sings to the masses as they ...   \n",
       "3  A woman with a green headscarf, blue shirt and...   \n",
       "4  A woman with a green headscarf, blue shirt and...   \n",
       "\n",
       "                              sentence1_binary_parse  \\\n",
       "0  ( ( This ( church choir ) ) ( ( ( sings ( to (...   \n",
       "1  ( ( This ( church choir ) ) ( ( ( sings ( to (...   \n",
       "2  ( ( This ( church choir ) ) ( ( ( sings ( to (...   \n",
       "3  ( ( ( A woman ) ( with ( ( ( ( ( a ( green hea...   \n",
       "4  ( ( ( A woman ) ( with ( ( ( ( ( a ( green hea...   \n",
       "\n",
       "                                     sentence1_parse  \\\n",
       "0  (ROOT (S (NP (DT This) (NN church) (NN choir))...   \n",
       "1  (ROOT (S (NP (DT This) (NN church) (NN choir))...   \n",
       "2  (ROOT (S (NP (DT This) (NN church) (NN choir))...   \n",
       "3  (ROOT (NP (NP (DT A) (NN woman)) (PP (IN with)...   \n",
       "4  (ROOT (NP (NP (DT A) (NN woman)) (PP (IN with)...   \n",
       "\n",
       "                               sentence2  \\\n",
       "0  The church has cracks in the ceiling.   \n",
       "1        The church is filled with song.   \n",
       "2    A choir singing at a baseball game.   \n",
       "3                    The woman is young.   \n",
       "4               The woman is very happy.   \n",
       "\n",
       "                              sentence2_binary_parse  \\\n",
       "0  ( ( The church ) ( ( has ( cracks ( in ( the c...   \n",
       "1  ( ( The church ) ( ( is ( filled ( with song )...   \n",
       "2  ( ( ( A choir ) ( singing ( at ( a ( baseball ...   \n",
       "3               ( ( The woman ) ( ( is young ) . ) )   \n",
       "4      ( ( The woman ) ( ( is ( very happy ) ) . ) )   \n",
       "\n",
       "                                     sentence2_parse  \n",
       "0  (ROOT (S (NP (DT The) (NN church)) (VP (VBZ ha...  \n",
       "1  (ROOT (S (NP (DT The) (NN church)) (VP (VBZ is...  \n",
       "2  (ROOT (NP (NP (DT A) (NN choir)) (VP (VBG sing...  \n",
       "3  (ROOT (S (NP (DT The) (NN woman)) (VP (VBZ is)...  \n",
       "4  (ROOT (S (NP (DT The) (NN woman)) (VP (VBZ is)...  "
      ]
     },
     "execution_count": 59,
     "metadata": {},
     "output_type": "execute_result"
    }
   ],
   "source": [
    "df_test.head()"
   ]
  },
  {
   "cell_type": "code",
   "execution_count": 31,
   "metadata": {},
   "outputs": [
    {
     "data": {
      "text/plain": [
       "9824"
      ]
     },
     "execution_count": 31,
     "metadata": {},
     "output_type": "execute_result"
    }
   ],
   "source": [
    "len(df_test)"
   ]
  },
  {
   "cell_type": "code",
   "execution_count": 20,
   "metadata": {},
   "outputs": [],
   "source": [
    "labels = df_test['gold_label']\n",
    "labels = labels.apply(lambda x: 2 if x==\"entailment\" else 1 if x==\"neutral\" else 0)\n",
    "sentences = df_test[['sentence1','sentence2']]"
   ]
  },
  {
   "cell_type": "code",
   "execution_count": 21,
   "metadata": {},
   "outputs": [
    {
     "data": {
      "text/plain": [
       "array(['This church choir sings to the masses as they sing joyous songs from the book at a church.',\n",
       "       'The church has cracks in the ceiling.'], dtype=object)"
      ]
     },
     "execution_count": 21,
     "metadata": {},
     "output_type": "execute_result"
    }
   ],
   "source": [
    "sentences.iloc[0,:].values"
   ]
  },
  {
   "cell_type": "code",
   "execution_count": 22,
   "metadata": {},
   "outputs": [
    {
     "name": "stdout",
     "output_type": "stream",
     "text": [
      "307/307 [==============================] - 9s 28ms/step\n",
      "307/307 [==============================] - 4s 10ms/step\n",
      "307/307 [==============================] - 111s 352ms/step\n"
     ]
    }
   ],
   "source": [
    "model_0_preds = np.argmax(model_0.predict(sentences.values),axis=1)\n",
    "model_1_preds = np.argmax(model_1.predict(sentences.values),axis=1)\n",
    "model_2_preds = np.argmax(model_2.predict(sentences.values),axis=1)"
   ]
  },
  {
   "cell_type": "code",
   "execution_count": 23,
   "metadata": {},
   "outputs": [],
   "source": [
    "model_0_series = pd.Series(model_0_preds)\n",
    "model_1_series = pd.Series(model_1_preds)\n",
    "model_2_series = pd.Series(model_2_preds)"
   ]
  },
  {
   "cell_type": "code",
   "execution_count": 32,
   "metadata": {},
   "outputs": [
    {
     "data": {
      "text/plain": [
       "0       0\n",
       "1       0\n",
       "2       0\n",
       "3       1\n",
       "4       1\n",
       "       ..\n",
       "9819    0\n",
       "9820    2\n",
       "9821    0\n",
       "9822    2\n",
       "9823    1\n",
       "Length: 9824, dtype: int64"
      ]
     },
     "execution_count": 32,
     "metadata": {},
     "output_type": "execute_result"
    }
   ],
   "source": [
    "model_0_series"
   ]
  },
  {
   "cell_type": "code",
   "execution_count": 35,
   "metadata": {},
   "outputs": [
    {
     "data": {
      "text/plain": [
       "0       1\n",
       "1       2\n",
       "2       0\n",
       "3       1\n",
       "4       2\n",
       "       ..\n",
       "9819    0\n",
       "9820    2\n",
       "9821    0\n",
       "9822    2\n",
       "9823    1\n",
       "Name: gold_label, Length: 9824, dtype: int64"
      ]
     },
     "execution_count": 35,
     "metadata": {},
     "output_type": "execute_result"
    }
   ],
   "source": [
    "labels.reset_index().loc[:,'gold_label']"
   ]
  },
  {
   "cell_type": "code",
   "execution_count": 36,
   "metadata": {},
   "outputs": [],
   "source": [
    "df = pd.concat([model_0_series,model_1_series,model_2_series,labels.reset_index().loc[:,'gold_label']],axis=1)"
   ]
  },
  {
   "cell_type": "markdown",
   "metadata": {},
   "source": [
    "Here, I choose a random pair of sentences that the models all correctly predicted."
   ]
  },
  {
   "cell_type": "code",
   "execution_count": 54,
   "metadata": {},
   "outputs": [],
   "source": [
    "df_all = df[(df[0] == df['gold_label']) & (df[1] == df['gold_label']) & (df[2] == df['gold_label'])]"
   ]
  },
  {
   "cell_type": "code",
   "execution_count": 60,
   "metadata": {},
   "outputs": [
    {
     "name": "stdout",
     "output_type": "stream",
     "text": [
      "0             2\n",
      "1             2\n",
      "2             2\n",
      "gold_label    2\n",
      "Name: 2503, dtype: int64\n",
      "['A runner poses for a picture with friends in a parking lot.'\n",
      " 'The runner is posing for a picture.']\n"
     ]
    }
   ],
   "source": [
    "index = df_all.sample().index.values[0]\n",
    "\n",
    "print(df_all.loc[index,:])\n",
    "print(sentences.loc[index,:].values)"
   ]
  },
  {
   "cell_type": "markdown",
   "metadata": {},
   "source": [
    "Here, I choose a random pair of sentences that none of the models correctly predicted."
   ]
  },
  {
   "cell_type": "code",
   "execution_count": 57,
   "metadata": {},
   "outputs": [],
   "source": [
    "df_none = df[(df[0] != df['gold_label']) & (df[1] != df['gold_label']) & (df[2] != df['gold_label'])]"
   ]
  },
  {
   "cell_type": "code",
   "execution_count": 61,
   "metadata": {},
   "outputs": [
    {
     "name": "stdout",
     "output_type": "stream",
     "text": [
      "0             0\n",
      "1             0\n",
      "2             0\n",
      "gold_label    2\n",
      "Name: 8377, dtype: int64\n",
      "['Two brown and white dogs running on a grassy but brown fenced yard.'\n",
      " 'Canines traverse a sealed expanse.']\n"
     ]
    }
   ],
   "source": [
    "index = df_none.sample().index.values[0]\n",
    "\n",
    "print(df_none.loc[index,:])\n",
    "print(sentences.loc[index,:].values)"
   ]
  },
  {
   "cell_type": "markdown",
   "metadata": {},
   "source": [
    "Here, I choose a random pair of sentences that only the last two models correctly predicted."
   ]
  },
  {
   "cell_type": "code",
   "execution_count": 62,
   "metadata": {},
   "outputs": [],
   "source": [
    "df_first_wrong = df[(df[0] != df['gold_label']) & (df[1] == df['gold_label']) & (df[2] == df['gold_label'])]"
   ]
  },
  {
   "cell_type": "code",
   "execution_count": 65,
   "metadata": {},
   "outputs": [
    {
     "name": "stdout",
     "output_type": "stream",
     "text": [
      "0             2\n",
      "1             0\n",
      "2             0\n",
      "gold_label    0\n",
      "Name: 6343, dtype: int64\n",
      "['Naked children play on the muddy riverbank.'\n",
      " 'THE RIVERBANK STAYED CLEAN EVERYDAY']\n"
     ]
    }
   ],
   "source": [
    "index = df_first_wrong.sample().index.values[0]\n",
    "\n",
    "print(df_first_wrong.loc[index,:])\n",
    "print(sentences.loc[index,:].values)"
   ]
  },
  {
   "cell_type": "markdown",
   "metadata": {},
   "source": [
    "Here, I choose a random pair of sentences that only the last model correctly predicted."
   ]
  },
  {
   "cell_type": "code",
   "execution_count": 66,
   "metadata": {},
   "outputs": [],
   "source": [
    "df_last_correct = df[(df[0] != df['gold_label']) & (df[1] != df['gold_label']) & (df[2] == df['gold_label'])]"
   ]
  },
  {
   "cell_type": "code",
   "execution_count": 71,
   "metadata": {},
   "outputs": [
    {
     "name": "stdout",
     "output_type": "stream",
     "text": [
      "0             0\n",
      "1             1\n",
      "2             2\n",
      "gold_label    2\n",
      "Name: 2721, dtype: int64\n",
      "['A yellow race car sliding through a corner as spectators watch.'\n",
      " 'A racecar is being watched.']\n"
     ]
    }
   ],
   "source": [
    "index = df_last_correct.sample().index.values[0]\n",
    "\n",
    "print(df_last_correct.loc[index,:])\n",
    "print(sentences.loc[index,:].values)"
   ]
  },
  {
   "cell_type": "markdown",
   "metadata": {},
   "source": [
    "In conclusion, the ESIM model produced the best performance in terms of both loss and accuracy, followed by the attention model, followed by the baseline. With additional hyperparameter tweaking and more epochs, the second and third models have the potential to perform noticeably better, but under the time constraints presented here, they still illustrated the value of more complex models in maximizing performance for this task."
   ]
  }
 ],
 "metadata": {
  "colab": {
   "provenance": []
  },
  "kernelspec": {
   "display_name": "Python 3 (ipykernel)",
   "language": "python",
   "name": "python3"
  },
  "language_info": {
   "codemirror_mode": {
    "name": "ipython",
    "version": 3
   },
   "file_extension": ".py",
   "mimetype": "text/x-python",
   "name": "python",
   "nbconvert_exporter": "python",
   "pygments_lexer": "ipython3",
   "version": "3.10.9"
  }
 },
 "nbformat": 4,
 "nbformat_minor": 1
}
